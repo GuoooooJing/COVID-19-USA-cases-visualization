{
 "cells": [
  {
   "cell_type": "code",
   "execution_count": 1,
   "metadata": {},
   "outputs": [],
   "source": [
    "from bs4 import BeautifulSoup as bs\n",
    "import requests\n",
    "import pandas as pd\n",
    "import os\n",
    "import state_code\n",
    "from state_code import SAMPLE\n",
    "import collections\n",
    "import plotly.graph_objects as go\n",
    "import numpy as np"
   ]
  },
  {
   "cell_type": "code",
   "execution_count": 2,
   "metadata": {},
   "outputs": [],
   "source": [
    "source = requests.get('https://github.com/CSSEGISandData/COVID-19/blob/master/csse_covid_19_data/csse_covid_19_daily_reports_us/')\n",
    "\n",
    "soup = bs(source.text,'html.parser')\n",
    "page = soup.prettify()"
   ]
  },
  {
   "cell_type": "code",
   "execution_count": 4,
   "metadata": {},
   "outputs": [
    {
     "output_type": "stream",
     "name": "stdout",
     "text": "https://raw.githubusercontent.com/CSSEGISandData/COVID-19/master/csse_covid_19_data/csse_covid_19_daily_reports_us/04-15-2020.csv\nhttps://raw.githubusercontent.com/CSSEGISandData/COVID-19/master/csse_covid_19_data/csse_covid_19_daily_reports_us/04-25-2020.csv\nhttps://raw.githubusercontent.com/CSSEGISandData/COVID-19/master/csse_covid_19_data/csse_covid_19_daily_reports_us/04-16-2020.csv\nhttps://raw.githubusercontent.com/CSSEGISandData/COVID-19/master/csse_covid_19_data/csse_covid_19_daily_reports_us/04-13-2020.csv\nhttps://raw.githubusercontent.com/CSSEGISandData/COVID-19/master/csse_covid_19_data/csse_covid_19_daily_reports_us/04-20-2020.csv\nhttps://raw.githubusercontent.com/CSSEGISandData/COVID-19/master/csse_covid_19_data/csse_covid_19_daily_reports_us/04-17-2020.csv\nhttps://raw.githubusercontent.com/CSSEGISandData/COVID-19/master/csse_covid_19_data/csse_covid_19_daily_reports_us/04-21-2020.csv\nhttps://raw.githubusercontent.com/CSSEGISandData/COVID-19/master/csse_covid_19_data/csse_covid_19_daily_reports_us/04-22-2020.csv\nhttps://raw.githubusercontent.com/CSSEGISandData/COVID-19/master/csse_covid_19_data/csse_covid_19_daily_reports_us/04-24-2020.csv\nhttps://raw.githubusercontent.com/CSSEGISandData/COVID-19/master/csse_covid_19_data/csse_covid_19_daily_reports_us/04-18-2020.csv\nhttps://raw.githubusercontent.com/CSSEGISandData/COVID-19/master/csse_covid_19_data/csse_covid_19_daily_reports_us/04-12-2020.csv\nhttps://raw.githubusercontent.com/CSSEGISandData/COVID-19/master/csse_covid_19_data/csse_covid_19_daily_reports_us/04-23-2020.csv\nhttps://raw.githubusercontent.com/CSSEGISandData/COVID-19/master/csse_covid_19_data/csse_covid_19_daily_reports_us/04-19-2020.csv\nhttps://raw.githubusercontent.com/CSSEGISandData/COVID-19/master/csse_covid_19_data/csse_covid_19_daily_reports_us/04-14-2020.csv\n"
    }
   ],
   "source": [
    "web_fileset = set()\n",
    "web_set = set()\n",
    "dic_p = {}\n",
    "for i in soup.find_all('a', class_='js-navigation-open'):\n",
    "    if 'csv' in i['href']:\n",
    "        web_set.add(i['href'])\n",
    "        web_fileset.add(i['href'].split('/')[-1])\n",
    "        dic_p[i['href'].split('/')[-1]] = i['href']\n",
    "\n",
    "dir_set = set(os.listdir('./us_dataset'))\n",
    "new_data = web_fileset.difference(dir_set)\n",
    "for i in new_data:\n",
    "    path = 'https://raw.githubusercontent.com'+''.join(dic_p[i].split('/blob'))\n",
    "    # raw_source = requests.get(path)\n",
    "    # raw_soup = bs(raw_source.text, 'html.parser')\n",
    "    # csv_path = 'https://raw.githubusercontent.com'+raw_soup.find(id='raw-url')['href']\n",
    "    print(path)\n",
    "    df = pd.read_csv(path)\n",
    "    filename = i.split('/')[-1]\n",
    "    #print(filename)\n",
    "    df.to_csv('./us_dataset/'+filename)\n"
   ]
  },
  {
   "cell_type": "code",
   "execution_count": 8,
   "metadata": {},
   "outputs": [],
   "source": [
    "files = os.listdir('./us_dataset/')\n",
    "files.sort()"
   ]
  },
  {
   "cell_type": "code",
   "execution_count": 37,
   "metadata": {},
   "outputs": [],
   "source": [
    "\n",
    "output_df = []\n",
    "entire = pd.DataFrame(columns=['code','state','total_confirmed', 'death', 'recovered','testing_rate', 'hosp_rate', 'mortality_rate', 'date'])\n",
    "for i in files:\n",
    "    #print(i)\n",
    "    total = {}\n",
    "    raw_df = pd.read_csv('./us_dataset/'+i).fillna(0)\n",
    "\n",
    "    country = 'Country_Region'\n",
    "    state = 'Province_State'\n",
    "    check = raw_df[country] == 'US'\n",
    "    df = raw_df[check]\n",
    "\n",
    "    for _, row in df.iterrows():\n",
    "        us_state = row[state]\n",
    "        if us_state not in state_code.CODE:\n",
    "            #print(us_state)\n",
    "            continue\n",
    "        #print(row[state],i)\n",
    "        if us_state in total:\n",
    "            #print(total[temp])\n",
    "            total[us_state][0] += row['Confirmed']\n",
    "            total[us_state][1] += row['Deaths']\n",
    "            total[us_state][2] += row['Recovered']\n",
    "            total[us_state][3] += row['Testing_Rate']\n",
    "            total[us_state][3] += row['Hospitalization_Rate']\n",
    "            total[us_state][3] += row['Mortality_Rate']\n",
    "        else:\n",
    "            total[us_state] = [row['Confirmed'],row['Deaths'], row['Recovered'], row['Testing_Rate'], row['Hospitalization_Rate'], row['Mortality_Rate']]\n",
    "            \n",
    "    usa_df = pd.DataFrame(columns=['code','state','total_confirmed', 'death', 'recovered','testing_rate', 'hosp_rate', 'mortality_rate', 'date'])\n",
    "\n",
    "\n",
    "    for j in total:\n",
    "        a_row = [state_code.CODE[j], j]+total[j] + [i[:10]]\n",
    "        leng = len(usa_df)\n",
    "        usa_df.loc[leng] = a_row\n",
    "        entire.loc[leng] = a_row\n",
    "        #row_df = pd.DataFrame([a_row])\n",
    "        # usa_df = usa_df.append(a_row, ignore_index=True)\n",
    "    #print(usa_df)\n",
    "    output_df.append(usa_df.fillna(0))"
   ]
  },
  {
   "cell_type": "code",
   "execution_count": 24,
   "metadata": {},
   "outputs": [
    {
     "output_type": "display_data",
     "data": {
      "application/vnd.plotly.v1+json": {
       "config": {
        "plotlyServerURL": "https://plot.ly"
       },
       "data": [
        {
         "colorbar": {
          "title": {
           "text": "People"
          }
         },
         "colorscale": [
          [
           0,
           "rgb(255,245,240)"
          ],
          [
           0.125,
           "rgb(254,224,210)"
          ],
          [
           0.25,
           "rgb(252,187,161)"
          ],
          [
           0.375,
           "rgb(252,146,114)"
          ],
          [
           0.5,
           "rgb(251,106,74)"
          ],
          [
           0.625,
           "rgb(239,59,44)"
          ],
          [
           0.75,
           "rgb(203,24,29)"
          ],
          [
           0.875,
           "rgb(165,15,21)"
          ],
          [
           1,
           "rgb(103,0,13)"
          ]
         ],
         "hovertext": [
          "Alabama<br>",
          "Alaska<br>",
          "Arizona<br>",
          "Arkansas<br>",
          "California<br>",
          "Colorado<br>",
          "Connecticut<br>",
          "Delaware<br>",
          "Florida<br>",
          "Georgia<br>",
          "Guam<br>",
          "Hawaii<br>",
          "Idaho<br>",
          "Illinois<br>",
          "Indiana<br>",
          "Iowa<br>",
          "Kansas<br>",
          "Kentucky<br>",
          "Louisiana<br>",
          "Maine<br>",
          "Maryland<br>",
          "Massachusetts<br>",
          "Michigan<br>",
          "Minnesota<br>",
          "Mississippi<br>",
          "Missouri<br>",
          "Montana<br>",
          "Nebraska<br>",
          "Nevada<br>",
          "New Hampshire<br>",
          "New Jersey<br>",
          "New Mexico<br>",
          "New York<br>",
          "North Carolina<br>",
          "North Dakota<br>",
          "Ohio<br>",
          "Oklahoma<br>",
          "Oregon<br>",
          "Pennsylvania<br>",
          "Puerto Rico<br>",
          "Rhode Island<br>",
          "South Carolina<br>",
          "South Dakota<br>",
          "Tennessee<br>",
          "Texas<br>",
          "Utah<br>",
          "Vermont<br>",
          "Virginia<br>",
          "Washington<br>",
          "West Virginia<br>",
          "Wisconsin<br>",
          "Wyoming<br>",
          "American Samoa<br>",
          "Northern Mariana Islands<br>",
          "Virgin Islands<br>"
         ],
         "locationmode": "USA-states",
         "locations": [
          "AL",
          "AK",
          "AZ",
          "AR",
          "CA",
          "CO",
          "CT",
          "DE",
          "FL",
          "GA",
          "GU",
          "HI",
          "ID",
          "IL",
          "IN",
          "IA",
          "KS",
          "KY",
          "LA",
          "ME",
          "MD",
          "MA",
          "MI",
          "MN",
          "MS",
          "MO",
          "MT",
          "NE",
          "NV",
          "NH",
          "NJ",
          "NM",
          "NY",
          "NC",
          "ND",
          "OH",
          "OK",
          "OR",
          "PA",
          "PR",
          "RI",
          "SC",
          "SD",
          "TN",
          "TX",
          "UT",
          "VT",
          "VA",
          "WA",
          "WV",
          "WI",
          "WY",
          "AS",
          "MP",
          "VI"
         ],
         "type": "choropleth",
         "z": [
          12.26494527,
          11.39705882,
          0,
          10.15625,
          22.9611757,
          18.8312577,
          13.74324886,
          11.69230769,
          13.93314903,
          20.11725024,
          9.77443609,
          8.817635271,
          9.310589907999999,
          17.64818722,
          0,
          8.128544423,
          22.17261905,
          23.38257769,
          10.11896091,
          18.95734597,
          22.61398176,
          8.773307164,
          14.99752516,
          22.27020358,
          19.70514204,
          23.14359335,
          12.14470284,
          0,
          9.943582511,
          15.71582347,
          12.29426031,
          6.2650602410000005,
          22.53257368,
          7.242888402999999,
          12.66233766,
          29.49727438,
          22.63959391,
          23.51015062,
          9.142035051,
          0,
          7.542213884,
          14.93975904,
          5.890410959,
          10.29411765,
          9.782847116000001,
          8.467216674,
          4.6767537830000006,
          14.23966629,
          6.051465737000001,
          13.65935919,
          29.15294822,
          14.81481481,
          0,
          0,
          5.8823529410000015
         ]
        },
        {
         "colorbar": {
          "title": {
           "text": "People"
          }
         },
         "colorscale": [
          [
           0,
           "rgb(255,245,240)"
          ],
          [
           0.125,
           "rgb(254,224,210)"
          ],
          [
           0.25,
           "rgb(252,187,161)"
          ],
          [
           0.375,
           "rgb(252,146,114)"
          ],
          [
           0.5,
           "rgb(251,106,74)"
          ],
          [
           0.625,
           "rgb(239,59,44)"
          ],
          [
           0.75,
           "rgb(203,24,29)"
          ],
          [
           0.875,
           "rgb(165,15,21)"
          ],
          [
           1,
           "rgb(103,0,13)"
          ]
         ],
         "hovertext": [
          "Alabama<br>",
          "Alaska<br>",
          "American Samoa<br>",
          "Arizona<br>",
          "Arkansas<br>",
          "California<br>",
          "Colorado<br>",
          "Connecticut<br>",
          "Delaware<br>",
          "Florida<br>",
          "Georgia<br>",
          "Guam<br>",
          "Hawaii<br>",
          "Idaho<br>",
          "Illinois<br>",
          "Indiana<br>",
          "Iowa<br>",
          "Kansas<br>",
          "Kentucky<br>",
          "Louisiana<br>",
          "Maine<br>",
          "Maryland<br>",
          "Massachusetts<br>",
          "Michigan<br>",
          "Minnesota<br>",
          "Mississippi<br>",
          "Missouri<br>",
          "Montana<br>",
          "Nebraska<br>",
          "Nevada<br>",
          "New Hampshire<br>",
          "New Jersey<br>",
          "New Mexico<br>",
          "New York<br>",
          "North Carolina<br>",
          "North Dakota<br>",
          "Northern Mariana Islands<br>",
          "Ohio<br>",
          "Oklahoma<br>",
          "Oregon<br>",
          "Pennsylvania<br>",
          "Puerto Rico<br>",
          "Rhode Island<br>",
          "South Carolina<br>",
          "South Dakota<br>",
          "Tennessee<br>",
          "Texas<br>",
          "Utah<br>",
          "Vermont<br>",
          "Virgin Islands<br>",
          "Virginia<br>",
          "Washington<br>",
          "West Virginia<br>",
          "Wisconsin<br>",
          "Wyoming<br>"
         ],
         "locationmode": "USA-states",
         "locations": [
          "AL",
          "AK",
          "AS",
          "AZ",
          "AR",
          "CA",
          "CO",
          "CT",
          "DE",
          "FL",
          "GA",
          "GU",
          "HI",
          "ID",
          "IL",
          "IN",
          "IA",
          "KS",
          "KY",
          "LA",
          "ME",
          "MD",
          "MA",
          "MI",
          "MN",
          "MS",
          "MO",
          "MT",
          "NE",
          "NV",
          "NH",
          "NJ",
          "NM",
          "NY",
          "NC",
          "ND",
          "MP",
          "OH",
          "OK",
          "OR",
          "PA",
          "PR",
          "RI",
          "SC",
          "SD",
          "TN",
          "TX",
          "UT",
          "VT",
          "VI",
          "VA",
          "WA",
          "WV",
          "WI",
          "WY"
         ],
         "type": "choropleth",
         "z": [
          12.23888591322978,
          11.552346570397113,
          0,
          14.170040485829961,
          9.21985815602837,
          12.59872132380594,
          19.139253673124433,
          13.152978103280773,
          11.433447098976107,
          2.302896300571456,
          19.44423582425836,
          9.022556390977444,
          8.730158730158731,
          9.256661991584851,
          16.708286038592508,
          0,
          8.304093567251464,
          22.230215827338128,
          33.052527254707634,
          10.154168252759805,
          17.76504297994269,
          22.10161145926589,
          8.709569360181638,
          15.549054027696506,
          22.27020357803825,
          18.66077498300476,
          21.882613510520486,
          11.928934010152284,
          0,
          0,
          15.431472081218276,
          12.047875634832153,
          6.3391442155309035,
          21.819779411389074,
          6.406058125255831,
          12.084592145015106,
          0,
          29.14695340501792,
          22.087965200579987,
          23.29545454545455,
          9.233492507821506,
          0,
          12.420262664165106,
          14.626953700973164,
          5.0691244239631335,
          10.320855614973262,
          8.238178633975481,
          8.506136267456624,
          4.411764705882354,
          0,
          21.541673916826173,
          4.955336154207805,
          26.84124386252045,
          28.96732788798133,
          14.909090909090908
         ]
        },
        {
         "colorbar": {
          "title": {
           "text": "People"
          }
         },
         "colorscale": [
          [
           0,
           "rgb(255,245,240)"
          ],
          [
           0.125,
           "rgb(254,224,210)"
          ],
          [
           0.25,
           "rgb(252,187,161)"
          ],
          [
           0.375,
           "rgb(252,146,114)"
          ],
          [
           0.5,
           "rgb(251,106,74)"
          ],
          [
           0.625,
           "rgb(239,59,44)"
          ],
          [
           0.75,
           "rgb(203,24,29)"
          ],
          [
           0.875,
           "rgb(165,15,21)"
          ],
          [
           1,
           "rgb(103,0,13)"
          ]
         ],
         "hovertext": [
          "Alabama<br>",
          "Alaska<br>",
          "American Samoa<br>",
          "Arizona<br>",
          "Arkansas<br>",
          "California<br>",
          "Colorado<br>",
          "Connecticut<br>",
          "Delaware<br>",
          "Florida<br>",
          "Georgia<br>",
          "Guam<br>",
          "Hawaii<br>",
          "Idaho<br>",
          "Illinois<br>",
          "Indiana<br>",
          "Iowa<br>",
          "Kansas<br>",
          "Kentucky<br>",
          "Louisiana<br>",
          "Maine<br>",
          "Maryland<br>",
          "Massachusetts<br>",
          "Michigan<br>",
          "Minnesota<br>",
          "Mississippi<br>",
          "Missouri<br>",
          "Montana<br>",
          "Nebraska<br>",
          "Nevada<br>",
          "New Hampshire<br>",
          "New Jersey<br>",
          "New Mexico<br>",
          "New York<br>",
          "North Carolina<br>",
          "North Dakota<br>",
          "Northern Mariana Islands<br>",
          "Ohio<br>",
          "Oklahoma<br>",
          "Oregon<br>",
          "Pennsylvania<br>",
          "Puerto Rico<br>",
          "Rhode Island<br>",
          "South Carolina<br>",
          "South Dakota<br>",
          "Tennessee<br>",
          "Texas<br>",
          "Utah<br>",
          "Vermont<br>",
          "Virgin Islands<br>",
          "Virginia<br>",
          "Washington<br>",
          "West Virginia<br>",
          "Wisconsin<br>",
          "Wyoming<br>"
         ],
         "locationmode": "USA-states",
         "locations": [
          "AL",
          "AK",
          "AS",
          "AZ",
          "AR",
          "CA",
          "CO",
          "CT",
          "DE",
          "FL",
          "GA",
          "GU",
          "HI",
          "ID",
          "IL",
          "IN",
          "IA",
          "KS",
          "KY",
          "LA",
          "ME",
          "MD",
          "MA",
          "MI",
          "MN",
          "MS",
          "MO",
          "MT",
          "NE",
          "NV",
          "NH",
          "NJ",
          "NM",
          "NY",
          "NC",
          "ND",
          "MP",
          "OH",
          "OK",
          "OR",
          "PA",
          "PR",
          "RI",
          "SC",
          "SD",
          "TN",
          "TX",
          "UT",
          "VT",
          "VI",
          "VA",
          "WA",
          "WV",
          "WI",
          "WY"
         ],
         "type": "choropleth",
         "z": [
          12.4715406,
          11.22807018,
          0,
          15.22709373,
          8.67823765,
          20.36204449,
          18.7798742,
          12.71713489,
          10.59190031,
          14.14832624,
          18.99437509,
          9.77443609,
          8.610567515,
          9.221311475,
          18.42309016,
          0,
          8.583464982,
          22.6925746,
          32.86132813,
          9.187656845,
          16.870748300000002,
          22.4028716,
          8.308478909,
          14.48094515,
          23.89380531,
          19.30677033,
          21.93426043,
          12.53132832,
          0,
          0,
          16.48590022,
          11.89265373,
          13.45724907,
          22.75687124,
          8.175239585,
          12.31671554,
          0,
          29.59505834,
          22.34432234,
          23.3312921,
          9.098763007999999,
          0,
          10.18148262,
          18.99802983,
          4.55465587,
          10.86322293,
          9.389577502,
          8.812577576,
          8.510638298,
          0,
          20.73762536,
          3.583665154,
          25.625,
          29.50773558,
          15.24822695
         ]
        },
        {
         "colorbar": {
          "title": {
           "text": "People"
          }
         },
         "colorscale": [
          [
           0,
           "rgb(255,245,240)"
          ],
          [
           0.125,
           "rgb(254,224,210)"
          ],
          [
           0.25,
           "rgb(252,187,161)"
          ],
          [
           0.375,
           "rgb(252,146,114)"
          ],
          [
           0.5,
           "rgb(251,106,74)"
          ],
          [
           0.625,
           "rgb(239,59,44)"
          ],
          [
           0.75,
           "rgb(203,24,29)"
          ],
          [
           0.875,
           "rgb(165,15,21)"
          ],
          [
           1,
           "rgb(103,0,13)"
          ]
         ],
         "hovertext": [
          "Alabama<br>",
          "Alaska<br>",
          "American Samoa<br>",
          "Arizona<br>",
          "Arkansas<br>",
          "California<br>",
          "Colorado<br>",
          "Connecticut<br>",
          "Delaware<br>",
          "Florida<br>",
          "Georgia<br>",
          "Guam<br>",
          "Hawaii<br>",
          "Idaho<br>",
          "Illinois<br>",
          "Indiana<br>",
          "Iowa<br>",
          "Kansas<br>",
          "Kentucky<br>",
          "Louisiana<br>",
          "Maine<br>",
          "Maryland<br>",
          "Massachusetts<br>",
          "Michigan<br>",
          "Minnesota<br>",
          "Mississippi<br>",
          "Missouri<br>",
          "Montana<br>",
          "Nebraska<br>",
          "Nevada<br>",
          "New Hampshire<br>",
          "New Jersey<br>",
          "New Mexico<br>",
          "New York<br>",
          "North Carolina<br>",
          "North Dakota<br>",
          "Northern Mariana Islands<br>",
          "Ohio<br>",
          "Oklahoma<br>",
          "Oregon<br>",
          "Pennsylvania<br>",
          "Puerto Rico<br>",
          "Rhode Island<br>",
          "South Carolina<br>",
          "South Dakota<br>",
          "Tennessee<br>",
          "Texas<br>",
          "Utah<br>",
          "Vermont<br>",
          "Virgin Islands<br>",
          "Virginia<br>",
          "Washington<br>",
          "West Virginia<br>",
          "Wisconsin<br>",
          "Wyoming<br>"
         ],
         "locationmode": "USA-states",
         "locations": [
          "AL",
          "AK",
          "AS",
          "AZ",
          "AR",
          "CA",
          "CO",
          "CT",
          "DE",
          "FL",
          "GA",
          "GU",
          "HI",
          "ID",
          "IL",
          "IN",
          "IA",
          "KS",
          "KY",
          "LA",
          "ME",
          "MD",
          "MA",
          "MI",
          "MN",
          "MS",
          "MO",
          "MT",
          "NE",
          "NV",
          "NH",
          "NJ",
          "NM",
          "NY",
          "NC",
          "ND",
          "MP",
          "OH",
          "OK",
          "OR",
          "PA",
          "PR",
          "RI",
          "SC",
          "SD",
          "TN",
          "TX",
          "UT",
          "VT",
          "VI",
          "VA",
          "WA",
          "WV",
          "WI",
          "WY"
         ],
         "type": "choropleth",
         "z": [
          12.883435582822086,
          11.604095563139932,
          0,
          14.883955600403633,
          8.2855321861058,
          19.347223263134232,
          19.55756661639015,
          12.931209759403592,
          10.327706057596822,
          14.854959797432365,
          19.496897311002872,
          6.666666666666668,
          8.587786259541986,
          9.572301425661914,
          17.415524742812995,
          0,
          8.571428571428571,
          22.739361702127663,
          31.08597285067873,
          8.851532959774044,
          16.363636363636363,
          22.238835725677827,
          11.544889364262321,
          13.963434192237784,
          24.59922609176341,
          19.196428571428573,
          21.3734084742225,
          12.623762376237625,
          0,
          0,
          15.62774363476734,
          11.642967760101365,
          12.196765498652296,
          21.5435478004607,
          8.071161048689138,
          12.054794520547945,
          0,
          28.701565306646145,
          22.536456031816172,
          24.113048707155734,
          8.952267035472659,
          0,
          10.181482620732082,
          18.462800875273523,
          4.366438356164384,
          11.378067616269092,
          9.668699314767084,
          8.673469387755103,
          8.300395256916996,
          0,
          19.96923076923077,
          5.894717601900933,
          23.361823361823358,
          29.32007524858909,
          14.982578397212546
         ]
        },
        {
         "colorbar": {
          "title": {
           "text": "People"
          }
         },
         "colorscale": [
          [
           0,
           "rgb(255,245,240)"
          ],
          [
           0.125,
           "rgb(254,224,210)"
          ],
          [
           0.25,
           "rgb(252,187,161)"
          ],
          [
           0.375,
           "rgb(252,146,114)"
          ],
          [
           0.5,
           "rgb(251,106,74)"
          ],
          [
           0.625,
           "rgb(239,59,44)"
          ],
          [
           0.75,
           "rgb(203,24,29)"
          ],
          [
           0.875,
           "rgb(165,15,21)"
          ],
          [
           1,
           "rgb(103,0,13)"
          ]
         ],
         "hovertext": [
          "Alabama<br>",
          "Alaska<br>",
          "American Samoa<br>",
          "Arizona<br>",
          "Arkansas<br>",
          "California<br>",
          "Colorado<br>",
          "Connecticut<br>",
          "Delaware<br>",
          "Florida<br>",
          "Georgia<br>",
          "Guam<br>",
          "Hawaii<br>",
          "Idaho<br>",
          "Illinois<br>",
          "Indiana<br>",
          "Iowa<br>",
          "Kansas<br>",
          "Kentucky<br>",
          "Louisiana<br>",
          "Maine<br>",
          "Maryland<br>",
          "Massachusetts<br>",
          "Michigan<br>",
          "Minnesota<br>",
          "Mississippi<br>",
          "Missouri<br>",
          "Montana<br>",
          "Nebraska<br>",
          "Nevada<br>",
          "New Hampshire<br>",
          "New Jersey<br>",
          "New Mexico<br>",
          "New York<br>",
          "North Carolina<br>",
          "North Dakota<br>",
          "Northern Mariana Islands<br>",
          "Ohio<br>",
          "Oklahoma<br>",
          "Oregon<br>",
          "Pennsylvania<br>",
          "Puerto Rico<br>",
          "Rhode Island<br>",
          "South Carolina<br>",
          "South Dakota<br>",
          "Tennessee<br>",
          "Texas<br>",
          "Utah<br>",
          "Vermont<br>",
          "Virgin Islands<br>",
          "Virginia<br>",
          "Washington<br>",
          "West Virginia<br>",
          "Wisconsin<br>",
          "Wyoming<br>"
         ],
         "locationmode": "USA-states",
         "locations": [
          "AL",
          "AK",
          "AS",
          "AZ",
          "AR",
          "CA",
          "CO",
          "CT",
          "DE",
          "FL",
          "GA",
          "GU",
          "HI",
          "ID",
          "IL",
          "IN",
          "IA",
          "KS",
          "KY",
          "LA",
          "ME",
          "MD",
          "MA",
          "MI",
          "MN",
          "MS",
          "MO",
          "MT",
          "NE",
          "NV",
          "NH",
          "NJ",
          "NM",
          "NY",
          "NC",
          "ND",
          "MP",
          "OH",
          "OK",
          "OR",
          "PA",
          "PR",
          "RI",
          "SC",
          "SD",
          "TN",
          "TX",
          "UT",
          "VT",
          "VI",
          "VA",
          "WA",
          "WV",
          "WI",
          "WY"
         ],
         "type": "choropleth",
         "z": [
          12.727272727272727,
          11.666666666666664,
          0,
          13.641727637479349,
          5.246913580246914,
          18.17754814466885,
          19.744146753560226,
          12.12540921682196,
          10.096618357487925,
          14.822430707278409,
          19.835343672219032,
          6.666666666666668,
          8.49056603773585,
          9.010712035286703,
          17.187378565322142,
          0,
          8.173750583839327,
          22.229102167182663,
          33.14168377823409,
          8.494585478430677,
          16.331658291457288,
          22.72811572700297,
          10.733041235511637,
          13.221562706098787,
          26.25760088446655,
          18.818984547461373,
          20.158484731349045,
          12.530120481927712,
          0,
          0,
          15.62774363476734,
          10.919181592469164,
          14.487870619946092,
          22.55343308403109,
          8.015605603830467,
          11.450381679389313,
          0,
          27.703826955074874,
          22.40135765803988,
          23.847926267281107,
          8.889518012598204,
          0,
          9.379427599886654,
          17.171203256168912,
          4.195270785659802,
          10.839215686274507,
          8.645413605119696,
          8.87066716362281,
          7.493540051679586,
          0,
          19.407751487879228,
          5.381206475535859,
          11.675824175824175,
          28.929032258064517,
          14.527027027027025
         ]
        },
        {
         "colorbar": {
          "title": {
           "text": "People"
          }
         },
         "colorscale": [
          [
           0,
           "rgb(255,245,240)"
          ],
          [
           0.125,
           "rgb(254,224,210)"
          ],
          [
           0.25,
           "rgb(252,187,161)"
          ],
          [
           0.375,
           "rgb(252,146,114)"
          ],
          [
           0.5,
           "rgb(251,106,74)"
          ],
          [
           0.625,
           "rgb(239,59,44)"
          ],
          [
           0.75,
           "rgb(203,24,29)"
          ],
          [
           0.875,
           "rgb(165,15,21)"
          ],
          [
           1,
           "rgb(103,0,13)"
          ]
         ],
         "hovertext": [
          "Alabama<br>",
          "Alaska<br>",
          "American Samoa<br>",
          "Arizona<br>",
          "Arkansas<br>",
          "California<br>",
          "Colorado<br>",
          "Connecticut<br>",
          "Delaware<br>",
          "Florida<br>",
          "Georgia<br>",
          "Guam<br>",
          "Hawaii<br>",
          "Idaho<br>",
          "Illinois<br>",
          "Indiana<br>",
          "Iowa<br>",
          "Kansas<br>",
          "Kentucky<br>",
          "Louisiana<br>",
          "Maine<br>",
          "Maryland<br>",
          "Massachusetts<br>",
          "Michigan<br>",
          "Minnesota<br>",
          "Mississippi<br>",
          "Missouri<br>",
          "Montana<br>",
          "Nebraska<br>",
          "Nevada<br>",
          "New Hampshire<br>",
          "New Jersey<br>",
          "New Mexico<br>",
          "New York<br>",
          "North Carolina<br>",
          "North Dakota<br>",
          "Northern Mariana Islands<br>",
          "Ohio<br>",
          "Oklahoma<br>",
          "Oregon<br>",
          "Pennsylvania<br>",
          "Puerto Rico<br>",
          "Rhode Island<br>",
          "South Carolina<br>",
          "South Dakota<br>",
          "Tennessee<br>",
          "Texas<br>",
          "Utah<br>",
          "Vermont<br>",
          "Virgin Islands<br>",
          "Virginia<br>",
          "Washington<br>",
          "West Virginia<br>",
          "Wisconsin<br>",
          "Wyoming<br>"
         ],
         "locationmode": "USA-states",
         "locations": [
          "AL",
          "AK",
          "AS",
          "AZ",
          "AR",
          "CA",
          "CO",
          "CT",
          "DE",
          "FL",
          "GA",
          "GU",
          "HI",
          "ID",
          "IL",
          "IN",
          "IA",
          "KS",
          "KY",
          "LA",
          "ME",
          "MD",
          "MA",
          "MI",
          "MN",
          "MS",
          "MO",
          "MT",
          "NE",
          "NV",
          "NH",
          "NJ",
          "NM",
          "NY",
          "NC",
          "ND",
          "MP",
          "OH",
          "OK",
          "OR",
          "PA",
          "PR",
          "RI",
          "SC",
          "SD",
          "TN",
          "TX",
          "UT",
          "VT",
          "VI",
          "VA",
          "WA",
          "WV",
          "WI",
          "WY"
         ],
         "type": "choropleth",
         "z": [
          12.994968278276088,
          11.650485436893206,
          0,
          12.547107071602747,
          4.896755162241887,
          16.778132180951406,
          19.479921758140605,
          11.577131298709025,
          9.02028485110056,
          14.802698008804883,
          19.332325229731303,
          4.411764705882354,
          8.317929759704251,
          9.198259788688627,
          16.15055479005004,
          0,
          7.847341337907376,
          21.676300578034677,
          38.501189532117365,
          8.08028376157107,
          16.08222490931076,
          22.57172485309368,
          10.839486076390907,
          12.23728474835959,
          25.02415458937198,
          19.404165568151857,
          19.41910258797245,
          12.796208530805687,
          0,
          0,
          14.763014763014764,
          10.20938738578001,
          14.402003757044456,
          22.73403383391805,
          7.096774193548387,
          11.959287531806615,
          0,
          26.616888108048755,
          21.419878296146052,
          23.92156862745098,
          8.709180942184155,
          0,
          7.924347617907588,
          16.467431080751403,
          4.4649184975194895,
          11.352387034967267,
          8.527088352288644,
          8.736126029359111,
          4.10783055198973,
          0,
          17.460953143772528,
          5.400711990969871,
          10.967741935483868,
          28.44806316308907,
          14.098360655737705
         ]
        },
        {
         "colorbar": {
          "title": {
           "text": "People"
          }
         },
         "colorscale": [
          [
           0,
           "rgb(255,245,240)"
          ],
          [
           0.125,
           "rgb(254,224,210)"
          ],
          [
           0.25,
           "rgb(252,187,161)"
          ],
          [
           0.375,
           "rgb(252,146,114)"
          ],
          [
           0.5,
           "rgb(251,106,74)"
          ],
          [
           0.625,
           "rgb(239,59,44)"
          ],
          [
           0.75,
           "rgb(203,24,29)"
          ],
          [
           0.875,
           "rgb(165,15,21)"
          ],
          [
           1,
           "rgb(103,0,13)"
          ]
         ],
         "hovertext": [
          "Alabama<br>",
          "Alaska<br>",
          "American Samoa<br>",
          "Arizona<br>",
          "Arkansas<br>",
          "California<br>",
          "Colorado<br>",
          "Connecticut<br>",
          "Delaware<br>",
          "Florida<br>",
          "Georgia<br>",
          "Guam<br>",
          "Hawaii<br>",
          "Idaho<br>",
          "Illinois<br>",
          "Indiana<br>",
          "Iowa<br>",
          "Kansas<br>",
          "Kentucky<br>",
          "Louisiana<br>",
          "Maine<br>",
          "Maryland<br>",
          "Massachusetts<br>",
          "Michigan<br>",
          "Minnesota<br>",
          "Mississippi<br>",
          "Missouri<br>",
          "Montana<br>",
          "Nebraska<br>",
          "Nevada<br>",
          "New Hampshire<br>",
          "New Jersey<br>",
          "New Mexico<br>",
          "New York<br>",
          "North Carolina<br>",
          "North Dakota<br>",
          "Northern Mariana Islands<br>",
          "Ohio<br>",
          "Oklahoma<br>",
          "Oregon<br>",
          "Pennsylvania<br>",
          "Puerto Rico<br>",
          "Rhode Island<br>",
          "South Carolina<br>",
          "South Dakota<br>",
          "Tennessee<br>",
          "Texas<br>",
          "Utah<br>",
          "Vermont<br>",
          "Virgin Islands<br>",
          "Virginia<br>",
          "Washington<br>",
          "West Virginia<br>",
          "Wisconsin<br>",
          "Wyoming<br>"
         ],
         "locationmode": "USA-states",
         "locations": [
          "AL",
          "AK",
          "AS",
          "AZ",
          "AR",
          "CA",
          "CO",
          "CT",
          "DE",
          "FL",
          "GA",
          "GU",
          "HI",
          "ID",
          "IL",
          "IN",
          "IA",
          "KS",
          "KY",
          "LA",
          "ME",
          "MD",
          "MA",
          "MI",
          "MN",
          "MS",
          "MO",
          "MT",
          "NE",
          "NV",
          "NH",
          "NJ",
          "NM",
          "NY",
          "NC",
          "ND",
          "MP",
          "OH",
          "OK",
          "OR",
          "PA",
          "PR",
          "RI",
          "SC",
          "SD",
          "TN",
          "TX",
          "UT",
          "VT",
          "VI",
          "VA",
          "WA",
          "WV",
          "WI",
          "WY"
         ],
         "type": "choropleth",
         "z": [
          13.157894736842106,
          12.420382165605098,
          0,
          11.981371718882306,
          16.68577981651376,
          16.044078580564758,
          19.39869570023212,
          11.08831908831909,
          8.825847123719463,
          15.07139494743449,
          19.355934121908426,
          4.411764705882354,
          8.362369337979095,
          9.123867069486405,
          14.883401920438958,
          0,
          7.6800636689216075,
          21.03239978034048,
          37.23679349833764,
          7.468193384223919,
          16.056670602125152,
          22.367353561577158,
          10.252391949851534,
          11.802149978889934,
          25.39610683567225,
          19.677906391545047,
          15.683814303638645,
          12.910798122065728,
          0,
          0,
          14.157973174366616,
          9.479243429132893,
          13.459399332591767,
          22.480886344078908,
          6.131479140328697,
          8.901515151515152,
          0,
          24.642927020152612,
          21.947261663286003,
          24.349240780911064,
          8.255402502211549,
          0,
          7.370296147851257,
          18.26741996233521,
          4.409857328145267,
          10.912126271057826,
          7.062660393498716,
          8.604730887898526,
          6.973848069738481,
          0,
          16.229976406308207,
          4.398777173913044,
          10.573248407643312,
          28.00666825434628,
          16.181229773462785
         ]
        },
        {
         "colorbar": {
          "title": {
           "text": "People"
          }
         },
         "colorscale": [
          [
           0,
           "rgb(255,245,240)"
          ],
          [
           0.125,
           "rgb(254,224,210)"
          ],
          [
           0.25,
           "rgb(252,187,161)"
          ],
          [
           0.375,
           "rgb(252,146,114)"
          ],
          [
           0.5,
           "rgb(251,106,74)"
          ],
          [
           0.625,
           "rgb(239,59,44)"
          ],
          [
           0.75,
           "rgb(203,24,29)"
          ],
          [
           0.875,
           "rgb(165,15,21)"
          ],
          [
           1,
           "rgb(103,0,13)"
          ]
         ],
         "hovertext": [
          "Alabama<br>",
          "Alaska<br>",
          "American Samoa<br>",
          "Arizona<br>",
          "Arkansas<br>",
          "California<br>",
          "Colorado<br>",
          "Connecticut<br>",
          "Delaware<br>",
          "Florida<br>",
          "Georgia<br>",
          "Guam<br>",
          "Hawaii<br>",
          "Idaho<br>",
          "Illinois<br>",
          "Indiana<br>",
          "Iowa<br>",
          "Kansas<br>",
          "Kentucky<br>",
          "Louisiana<br>",
          "Maine<br>",
          "Maryland<br>",
          "Massachusetts<br>",
          "Michigan<br>",
          "Minnesota<br>",
          "Mississippi<br>",
          "Missouri<br>",
          "Montana<br>",
          "Nebraska<br>",
          "Nevada<br>",
          "New Hampshire<br>",
          "New Jersey<br>",
          "New Mexico<br>",
          "New York<br>",
          "North Carolina<br>",
          "North Dakota<br>",
          "Northern Mariana Islands<br>",
          "Ohio<br>",
          "Oklahoma<br>",
          "Oregon<br>",
          "Pennsylvania<br>",
          "Puerto Rico<br>",
          "Rhode Island<br>",
          "South Carolina<br>",
          "South Dakota<br>",
          "Tennessee<br>",
          "Texas<br>",
          "Utah<br>",
          "Vermont<br>",
          "Virgin Islands<br>",
          "Virginia<br>",
          "Washington<br>",
          "West Virginia<br>",
          "Wisconsin<br>",
          "Wyoming<br>"
         ],
         "locationmode": "USA-states",
         "locations": [
          "AL",
          "AK",
          "AS",
          "AZ",
          "AR",
          "CA",
          "CO",
          "CT",
          "DE",
          "FL",
          "GA",
          "GU",
          "HI",
          "ID",
          "IL",
          "IN",
          "IA",
          "KS",
          "KY",
          "LA",
          "ME",
          "MD",
          "MA",
          "MI",
          "MN",
          "MS",
          "MO",
          "MT",
          "NE",
          "NV",
          "NH",
          "NJ",
          "NM",
          "NY",
          "NC",
          "ND",
          "MP",
          "OH",
          "OK",
          "OR",
          "PA",
          "PR",
          "RI",
          "SC",
          "SD",
          "TN",
          "TX",
          "UT",
          "VT",
          "VI",
          "VA",
          "WA",
          "WV",
          "WI",
          "WY"
         ],
         "type": "choropleth",
         "z": [
          13.113747954173489,
          11.598746081504702,
          0,
          12.791404824650314,
          16.339135317237506,
          15.05201870764532,
          18.468653648509765,
          10.789444382585456,
          9.810874704491725,
          14.935015581059512,
          18.927927435659253,
          4.411764705882354,
          8.793103448275861,
          9.052757793764988,
          14.210890404190135,
          0,
          6.8228807718814615,
          20.47244094488189,
          35.777027027027025,
          7.305249080575058,
          15.68627450980392,
          22.46438857320776,
          9.793313548861518,
          10.829302443991851,
          24.363327674023772,
          18.905007019185774,
          15.235939404492425,
          12.702078521939955,
          0,
          0,
          13.81294964028777,
          8.785360077841995,
          13.983739837398375,
          22.48572523858524,
          7.044387214058478,
          8.717948717948719,
          0,
          22.108257197034998,
          21.07518504090378,
          23.874345549738216,
          8.005592365205763,
          0,
          7.033574160645982,
          17.72903815398675,
          4.525993883792049,
          10.24045261669024,
          7.637590861889928,
          8.439231019876182,
          6.519065190651907,
          0,
          16.64715523296652,
          4.78172174622603,
          8.089887640449438,
          27.38150023009664,
          15.974440894568687
         ]
        },
        {
         "colorbar": {
          "title": {
           "text": "People"
          }
         },
         "colorscale": [
          [
           0,
           "rgb(255,245,240)"
          ],
          [
           0.125,
           "rgb(254,224,210)"
          ],
          [
           0.25,
           "rgb(252,187,161)"
          ],
          [
           0.375,
           "rgb(252,146,114)"
          ],
          [
           0.5,
           "rgb(251,106,74)"
          ],
          [
           0.625,
           "rgb(239,59,44)"
          ],
          [
           0.75,
           "rgb(203,24,29)"
          ],
          [
           0.875,
           "rgb(165,15,21)"
          ],
          [
           1,
           "rgb(103,0,13)"
          ]
         ],
         "hovertext": [
          "Alabama<br>",
          "Alaska<br>",
          "American Samoa<br>",
          "Arizona<br>",
          "Arkansas<br>",
          "California<br>",
          "Colorado<br>",
          "Connecticut<br>",
          "Delaware<br>",
          "Florida<br>",
          "Georgia<br>",
          "Guam<br>",
          "Hawaii<br>",
          "Idaho<br>",
          "Illinois<br>",
          "Indiana<br>",
          "Iowa<br>",
          "Kansas<br>",
          "Kentucky<br>",
          "Louisiana<br>",
          "Maine<br>",
          "Maryland<br>",
          "Massachusetts<br>",
          "Michigan<br>",
          "Minnesota<br>",
          "Mississippi<br>",
          "Missouri<br>",
          "Montana<br>",
          "Nebraska<br>",
          "Nevada<br>",
          "New Hampshire<br>",
          "New Jersey<br>",
          "New Mexico<br>",
          "New York<br>",
          "North Carolina<br>",
          "North Dakota<br>",
          "Northern Mariana Islands<br>",
          "Ohio<br>",
          "Oklahoma<br>",
          "Oregon<br>",
          "Pennsylvania<br>",
          "Puerto Rico<br>",
          "Rhode Island<br>",
          "South Carolina<br>",
          "South Dakota<br>",
          "Tennessee<br>",
          "Texas<br>",
          "Utah<br>",
          "Vermont<br>",
          "Virgin Islands<br>",
          "Virginia<br>",
          "Washington<br>",
          "West Virginia<br>",
          "Wisconsin<br>",
          "Wyoming<br>"
         ],
         "locationmode": "USA-states",
         "locations": [
          "AL",
          "AK",
          "AS",
          "AZ",
          "AR",
          "CA",
          "CO",
          "CT",
          "DE",
          "FL",
          "GA",
          "GU",
          "HI",
          "ID",
          "IL",
          "IN",
          "IA",
          "KS",
          "KY",
          "LA",
          "ME",
          "MD",
          "MA",
          "MI",
          "MN",
          "MS",
          "MO",
          "MT",
          "NE",
          "NV",
          "NH",
          "NJ",
          "NM",
          "NY",
          "NC",
          "ND",
          "MP",
          "OH",
          "OK",
          "OR",
          "PA",
          "PR",
          "RI",
          "SC",
          "SD",
          "TN",
          "TX",
          "UT",
          "VT",
          "VI",
          "VA",
          "WA",
          "WV",
          "WI",
          "WY"
         ],
         "type": "choropleth",
         "z": [
          12.620594605237253,
          14.330218068535824,
          0,
          12.569060773480663,
          14.749113025848965,
          13.875200379979816,
          18.633093525179856,
          9.684582387080496,
          9.326047358834243,
          14.819468568683247,
          18.292368732931415,
          2.2058823529411766,
          8.904109589041097,
          9.0311004784689,
          14.593977088820488,
          0,
          6.774295663184552,
          19.775390625,
          34.721311475409834,
          7.315581291032907,
          15.771428571428574,
          22.02572347266881,
          9.793313548861518,
          10.54375,
          24.37246963562753,
          18.15159574468085,
          14.821731748726654,
          13.163972286374134,
          0,
          0,
          13.683483068417413,
          7.874033497892293,
          13.901572805682395,
          22.56500434679523,
          5.409717186366931,
          8.452950558213718,
          0,
          20.53564517377506,
          20.186567164179106,
          23.760858456821666,
          7.964262546440997,
          0,
          6.50294695481336,
          17.453891138101664,
          5.163204747774481,
          10.085659021829237,
          7.143942078882081,
          8.341114223467164,
          6.004901960784314,
          0,
          16.685205784204673,
          3.3267294039953774,
          8.536585365853659,
          26.917092687263835,
          16.08832807570978
         ]
        },
        {
         "colorbar": {
          "title": {
           "text": "People"
          }
         },
         "colorscale": [
          [
           0,
           "rgb(255,245,240)"
          ],
          [
           0.125,
           "rgb(254,224,210)"
          ],
          [
           0.25,
           "rgb(252,187,161)"
          ],
          [
           0.375,
           "rgb(252,146,114)"
          ],
          [
           0.5,
           "rgb(251,106,74)"
          ],
          [
           0.625,
           "rgb(239,59,44)"
          ],
          [
           0.75,
           "rgb(203,24,29)"
          ],
          [
           0.875,
           "rgb(165,15,21)"
          ],
          [
           1,
           "rgb(103,0,13)"
          ]
         ],
         "hovertext": [
          "Alabama<br>",
          "Alaska<br>",
          "American Samoa<br>",
          "Arizona<br>",
          "Arkansas<br>",
          "California<br>",
          "Colorado<br>",
          "Connecticut<br>",
          "Delaware<br>",
          "Florida<br>",
          "Georgia<br>",
          "Guam<br>",
          "Hawaii<br>",
          "Idaho<br>",
          "Illinois<br>",
          "Indiana<br>",
          "Iowa<br>",
          "Kansas<br>",
          "Kentucky<br>",
          "Louisiana<br>",
          "Maine<br>",
          "Maryland<br>",
          "Massachusetts<br>",
          "Michigan<br>",
          "Minnesota<br>",
          "Mississippi<br>",
          "Missouri<br>",
          "Montana<br>",
          "Nebraska<br>",
          "Nevada<br>",
          "New Hampshire<br>",
          "New Jersey<br>",
          "New Mexico<br>",
          "New York<br>",
          "North Carolina<br>",
          "North Dakota<br>",
          "Northern Mariana Islands<br>",
          "Ohio<br>",
          "Oklahoma<br>",
          "Oregon<br>",
          "Pennsylvania<br>",
          "Puerto Rico<br>",
          "Rhode Island<br>",
          "South Carolina<br>",
          "South Dakota<br>",
          "Tennessee<br>",
          "Texas<br>",
          "Utah<br>",
          "Vermont<br>",
          "Virgin Islands<br>",
          "Virginia<br>",
          "Washington<br>",
          "West Virginia<br>",
          "Wisconsin<br>",
          "Wyoming<br>"
         ],
         "locationmode": "USA-states",
         "locations": [
          "AL",
          "AK",
          "AS",
          "AZ",
          "AR",
          "CA",
          "CO",
          "CT",
          "DE",
          "FL",
          "GA",
          "GU",
          "HI",
          "ID",
          "IL",
          "IN",
          "IA",
          "KS",
          "KY",
          "LA",
          "ME",
          "MD",
          "MA",
          "MI",
          "MN",
          "MS",
          "MO",
          "MT",
          "NE",
          "NV",
          "NH",
          "NJ",
          "NM",
          "NY",
          "NC",
          "ND",
          "MP",
          "OH",
          "OK",
          "OR",
          "PA",
          "PR",
          "RI",
          "SC",
          "SD",
          "TN",
          "TX",
          "UT",
          "VT",
          "VI",
          "VA",
          "WA",
          "WV",
          "WI",
          "WY"
         ],
         "type": "choropleth",
         "z": [
          13.14651119052097,
          12.76595744680851,
          0,
          12.119482496194825,
          14.623115577889447,
          13.776963203158045,
          17.95092141697699,
          9.572691552062867,
          8.973046741726373,
          15.196096020668126,
          19.00809818419597,
          2.2058823529411766,
          9.38566552901024,
          9.04377880184332,
          14.446897970295534,
          0,
          5.877506179620982,
          19.362292051756008,
          33.05243445692884,
          7.234248008368874,
          15.653153153153156,
          22.25040512928909,
          9.398286366173936,
          10.276425750757646,
          24.503311258278146,
          18.193384223918574,
          16.501813386086386,
          13.501144164759724,
          0,
          0,
          13.825503355704695,
          8.219771179927912,
          14.764079147640786,
          22.102020041724572,
          5.985421923184749,
          8.385093167701863,
          0,
          20.247723132969035,
          19.985749910936946,
          23.50299401197605,
          7.781781043433857,
          0,
          10.472727272727274,
          17.481414733047984,
          5.698005698005698,
          10.27860427373546,
          6.8970545348498105,
          8.401577191386107,
          5.0122249388753035,
          0,
          16.417445482866043,
          4.003820743452997,
          9.361233480176212,
          27.07027027027027,
          11.738148984198643
         ]
        },
        {
         "colorbar": {
          "title": {
           "text": "People"
          }
         },
         "colorscale": [
          [
           0,
           "rgb(255,245,240)"
          ],
          [
           0.125,
           "rgb(254,224,210)"
          ],
          [
           0.25,
           "rgb(252,187,161)"
          ],
          [
           0.375,
           "rgb(252,146,114)"
          ],
          [
           0.5,
           "rgb(251,106,74)"
          ],
          [
           0.625,
           "rgb(239,59,44)"
          ],
          [
           0.75,
           "rgb(203,24,29)"
          ],
          [
           0.875,
           "rgb(165,15,21)"
          ],
          [
           1,
           "rgb(103,0,13)"
          ]
         ],
         "hovertext": [
          "Alabama<br>",
          "Alaska<br>",
          "American Samoa<br>",
          "Arizona<br>",
          "Arkansas<br>",
          "California<br>",
          "Colorado<br>",
          "Connecticut<br>",
          "Delaware<br>",
          "Florida<br>",
          "Georgia<br>",
          "Guam<br>",
          "Hawaii<br>",
          "Idaho<br>",
          "Illinois<br>",
          "Indiana<br>",
          "Iowa<br>",
          "Kansas<br>",
          "Kentucky<br>",
          "Louisiana<br>",
          "Maine<br>",
          "Maryland<br>",
          "Massachusetts<br>",
          "Michigan<br>",
          "Minnesota<br>",
          "Mississippi<br>",
          "Missouri<br>",
          "Montana<br>",
          "Nebraska<br>",
          "Nevada<br>",
          "New Hampshire<br>",
          "New Jersey<br>",
          "New Mexico<br>",
          "New York<br>",
          "North Carolina<br>",
          "North Dakota<br>",
          "Northern Mariana Islands<br>",
          "Ohio<br>",
          "Oklahoma<br>",
          "Oregon<br>",
          "Pennsylvania<br>",
          "Puerto Rico<br>",
          "Rhode Island<br>",
          "South Carolina<br>",
          "South Dakota<br>",
          "Tennessee<br>",
          "Texas<br>",
          "Utah<br>",
          "Vermont<br>",
          "Virgin Islands<br>",
          "Virginia<br>",
          "Washington<br>",
          "West Virginia<br>",
          "Wisconsin<br>",
          "Wyoming<br>"
         ],
         "locationmode": "USA-states",
         "locations": [
          "AL",
          "AK",
          "AS",
          "AZ",
          "AR",
          "CA",
          "CO",
          "CT",
          "DE",
          "FL",
          "GA",
          "GU",
          "HI",
          "ID",
          "IL",
          "IN",
          "IA",
          "KS",
          "KY",
          "LA",
          "ME",
          "MD",
          "MA",
          "MI",
          "MN",
          "MS",
          "MO",
          "MT",
          "NE",
          "NV",
          "NH",
          "NJ",
          "NM",
          "NY",
          "NC",
          "ND",
          "MP",
          "OH",
          "OK",
          "OR",
          "PA",
          "PR",
          "RI",
          "SC",
          "SD",
          "TN",
          "TX",
          "UT",
          "VT",
          "VI",
          "VA",
          "WA",
          "WV",
          "WI",
          "WY"
         ],
         "type": "choropleth",
         "z": [
          13.052029322367243,
          11.64179104477612,
          0,
          12.132285766490044,
          12.785588752196837,
          13.346186803770351,
          18.39133229271876,
          8.776536561484713,
          8.40625,
          15.786498993253028,
          18.66220420477044,
          2.2058823529411766,
          9.459459459459461,
          8.946772366930917,
          13.287948272424304,
          0,
          7.257203842049093,
          18.53281853281853,
          31.85316755476613,
          6.916620476680657,
          15.87651598676957,
          22.50423011844332,
          9.260897913561847,
          9.730318553847962,
          24.246877296105804,
          18.59419697588884,
          15.947108491317508,
          13.439635535307515,
          0,
          0,
          12.972292191435768,
          7.517150780907898,
          13.846153846153848,
          21.688087750482353,
          5.790527018012008,
          9.131075110456553,
          0,
          20.415102358858114,
          20.317899101589497,
          23.700825643516268,
          7.660329250041572,
          0,
          9.861325115562405,
          17.580340264650285,
          5.974165769644777,
          10.481471463348662,
          7.8701749448900165,
          8.359941944847606,
          4.4957472660996345,
          0,
          15.400350672121569,
          4.505850136918098,
          10.969116080937168,
          26.87306501547988,
          11.6331096196868
         ]
        },
        {
         "colorbar": {
          "title": {
           "text": "People"
          }
         },
         "colorscale": [
          [
           0,
           "rgb(255,245,240)"
          ],
          [
           0.125,
           "rgb(254,224,210)"
          ],
          [
           0.25,
           "rgb(252,187,161)"
          ],
          [
           0.375,
           "rgb(252,146,114)"
          ],
          [
           0.5,
           "rgb(251,106,74)"
          ],
          [
           0.625,
           "rgb(239,59,44)"
          ],
          [
           0.75,
           "rgb(203,24,29)"
          ],
          [
           0.875,
           "rgb(165,15,21)"
          ],
          [
           1,
           "rgb(103,0,13)"
          ]
         ],
         "hovertext": [
          "Alabama<br>",
          "Alaska<br>",
          "American Samoa<br>",
          "Arizona<br>",
          "Arkansas<br>",
          "California<br>",
          "Colorado<br>",
          "Connecticut<br>",
          "Delaware<br>",
          "Florida<br>",
          "Georgia<br>",
          "Guam<br>",
          "Hawaii<br>",
          "Idaho<br>",
          "Illinois<br>",
          "Indiana<br>",
          "Iowa<br>",
          "Kansas<br>",
          "Kentucky<br>",
          "Louisiana<br>",
          "Maine<br>",
          "Maryland<br>",
          "Massachusetts<br>",
          "Michigan<br>",
          "Minnesota<br>",
          "Mississippi<br>",
          "Missouri<br>",
          "Montana<br>",
          "Nebraska<br>",
          "Nevada<br>",
          "New Hampshire<br>",
          "New Jersey<br>",
          "New Mexico<br>",
          "New York<br>",
          "North Carolina<br>",
          "North Dakota<br>",
          "Northern Mariana Islands<br>",
          "Ohio<br>",
          "Oklahoma<br>",
          "Oregon<br>",
          "Pennsylvania<br>",
          "Puerto Rico<br>",
          "Rhode Island<br>",
          "South Carolina<br>",
          "South Dakota<br>",
          "Tennessee<br>",
          "Texas<br>",
          "Utah<br>",
          "Vermont<br>",
          "Virgin Islands<br>",
          "Virginia<br>",
          "Washington<br>",
          "West Virginia<br>",
          "Wisconsin<br>",
          "Wyoming<br>"
         ],
         "locationmode": "USA-states",
         "locations": [
          "AL",
          "AK",
          "AS",
          "AZ",
          "AR",
          "CA",
          "CO",
          "CT",
          "DE",
          "FL",
          "GA",
          "GU",
          "HI",
          "ID",
          "IL",
          "IN",
          "IA",
          "KS",
          "KY",
          "LA",
          "ME",
          "MD",
          "MA",
          "MI",
          "MN",
          "MS",
          "MO",
          "MT",
          "NE",
          "NV",
          "NH",
          "NJ",
          "NM",
          "NY",
          "NC",
          "ND",
          "MP",
          "OH",
          "OK",
          "OR",
          "PA",
          "PR",
          "RI",
          "SC",
          "SD",
          "TN",
          "TX",
          "UT",
          "VT",
          "VI",
          "VA",
          "WA",
          "WV",
          "WI",
          "WY"
         ],
         "type": "choropleth",
         "z": [
          13.168724279835393,
          12.462908011869436,
          0,
          12.110187110187109,
          11.196614082339359,
          12.459240160764391,
          18.82425962050009,
          8.428571428571429,
          8.766626360338575,
          15.829060982191045,
          18.5943426404058,
          1.4388489208633093,
          10.57046979865772,
          8.823529411764708,
          13.203562823185425,
          0,
          7.186544342507645,
          16.244027930907755,
          31.76200057487784,
          6.709662380045844,
          16.008537886873,
          22.094427146215924,
          9.762510049323165,
          10.230621033544876,
          24.20122365737593,
          18.35823791965845,
          13.58745773132493,
          13.348416289592759,
          0,
          0,
          12.754491017964073,
          7.2381904523869025,
          13.913408995376209,
          21.67425795187125,
          6.2148337595907925,
          9.167842031029616,
          0,
          20.144276575472983,
          20.61650646337421,
          24.07146215326752,
          7.165376898824878,
          0,
          9.207161125319693,
          17.022574740695546,
          6.0838445807770976,
          9.593515606097268,
          7.280353200883003,
          8.333333333333334,
          5.333333333333333,
          0,
          15.939261683942535,
          4.265662981259312,
          11.009174311926603,
          26.08867775138559,
          11.479028697571746
         ]
        },
        {
         "colorbar": {
          "title": {
           "text": "People"
          }
         },
         "colorscale": [
          [
           0,
           "rgb(255,245,240)"
          ],
          [
           0.125,
           "rgb(254,224,210)"
          ],
          [
           0.25,
           "rgb(252,187,161)"
          ],
          [
           0.375,
           "rgb(252,146,114)"
          ],
          [
           0.5,
           "rgb(251,106,74)"
          ],
          [
           0.625,
           "rgb(239,59,44)"
          ],
          [
           0.75,
           "rgb(203,24,29)"
          ],
          [
           0.875,
           "rgb(165,15,21)"
          ],
          [
           1,
           "rgb(103,0,13)"
          ]
         ],
         "hovertext": [
          "Alabama<br>",
          "Alaska<br>",
          "American Samoa<br>",
          "Arizona<br>",
          "Arkansas<br>",
          "California<br>",
          "Colorado<br>",
          "Connecticut<br>",
          "Delaware<br>",
          "Florida<br>",
          "Georgia<br>",
          "Guam<br>",
          "Hawaii<br>",
          "Idaho<br>",
          "Illinois<br>",
          "Indiana<br>",
          "Iowa<br>",
          "Kansas<br>",
          "Kentucky<br>",
          "Louisiana<br>",
          "Maine<br>",
          "Maryland<br>",
          "Massachusetts<br>",
          "Michigan<br>",
          "Minnesota<br>",
          "Mississippi<br>",
          "Missouri<br>",
          "Montana<br>",
          "Nebraska<br>",
          "Nevada<br>",
          "New Hampshire<br>",
          "New Jersey<br>",
          "New Mexico<br>",
          "New York<br>",
          "North Carolina<br>",
          "North Dakota<br>",
          "Northern Mariana Islands<br>",
          "Ohio<br>",
          "Oklahoma<br>",
          "Oregon<br>",
          "Pennsylvania<br>",
          "Puerto Rico<br>",
          "Rhode Island<br>",
          "South Carolina<br>",
          "South Dakota<br>",
          "Tennessee<br>",
          "Texas<br>",
          "Utah<br>",
          "Vermont<br>",
          "Virgin Islands<br>",
          "Virginia<br>",
          "Washington<br>",
          "West Virginia<br>",
          "Wisconsin<br>",
          "Wyoming<br>"
         ],
         "locationmode": "USA-states",
         "locations": [
          "AL",
          "AK",
          "AS",
          "AZ",
          "AR",
          "CA",
          "CO",
          "CT",
          "DE",
          "FL",
          "GA",
          "GU",
          "HI",
          "ID",
          "IL",
          "IN",
          "IA",
          "KS",
          "KY",
          "LA",
          "ME",
          "MD",
          "MA",
          "MI",
          "MN",
          "MS",
          "MO",
          "MT",
          "NE",
          "NV",
          "NH",
          "NJ",
          "NM",
          "NY",
          "NC",
          "ND",
          "MP",
          "OH",
          "OK",
          "OR",
          "PA",
          "PR",
          "RI",
          "SC",
          "SD",
          "TN",
          "TX",
          "UT",
          "VT",
          "VI",
          "VA",
          "WA",
          "WV",
          "WI",
          "WY"
         ],
         "type": "choropleth",
         "z": [
          12.761367407899106,
          10.619469026548671,
          0,
          16.277915632754343,
          10.355871886120996,
          11.800265989602226,
          19.304830287206265,
          7.841744652406418,
          8.047646717024985,
          16.40520093014116,
          19.216575519096526,
          1.4184397163120568,
          11.148086522462563,
          8.983957219251339,
          12.174088456301375,
          0,
          6.25421822272216,
          15.44440689422102,
          30.24609685101879,
          6.491966335118593,
          15.751295336787564,
          21.774193548387093,
          9.323314171359062,
          8.247591495865287,
          23.736263736263727,
          17.85057048214943,
          12.919858573954036,
          13.288288288288289,
          0,
          0,
          13.023255813953488,
          6.699870836431956,
          16.342721142403807,
          21.02544276298833,
          5.753920386007238,
          8.957219251336898,
          0,
          20.126573933680532,
          20.410124959948735,
          23.88608176389527,
          6.829486669319539,
          0,
          8.598298253470666,
          18.61932938856016,
          6.0784313725490176,
          9.25756186984418,
          7.080619236951189,
          8.328926493918562,
          3.8694074969770256,
          0,
          15.844402277039848,
          3.5062032827309846,
          9.603960396039604,
          25.26138909634055,
          11.416490486257928
         ]
        },
        {
         "colorbar": {
          "title": {
           "text": "People"
          }
         },
         "colorscale": [
          [
           0,
           "rgb(255,245,240)"
          ],
          [
           0.125,
           "rgb(254,224,210)"
          ],
          [
           0.25,
           "rgb(252,187,161)"
          ],
          [
           0.375,
           "rgb(252,146,114)"
          ],
          [
           0.5,
           "rgb(251,106,74)"
          ],
          [
           0.625,
           "rgb(239,59,44)"
          ],
          [
           0.75,
           "rgb(203,24,29)"
          ],
          [
           0.875,
           "rgb(165,15,21)"
          ],
          [
           1,
           "rgb(103,0,13)"
          ]
         ],
         "hovertext": [
          "Alabama<br>",
          "Alaska<br>",
          "American Samoa<br>",
          "Arizona<br>",
          "Arkansas<br>",
          "California<br>",
          "Colorado<br>",
          "Connecticut<br>",
          "Delaware<br>",
          "Florida<br>",
          "Georgia<br>",
          "Guam<br>",
          "Hawaii<br>",
          "Idaho<br>",
          "Illinois<br>",
          "Indiana<br>",
          "Iowa<br>",
          "Kansas<br>",
          "Kentucky<br>",
          "Louisiana<br>",
          "Maine<br>",
          "Maryland<br>",
          "Massachusetts<br>",
          "Michigan<br>",
          "Minnesota<br>",
          "Mississippi<br>",
          "Missouri<br>",
          "Montana<br>",
          "Nebraska<br>",
          "Nevada<br>",
          "New Hampshire<br>",
          "New Jersey<br>",
          "New Mexico<br>",
          "New York<br>",
          "North Carolina<br>",
          "North Dakota<br>",
          "Northern Mariana Islands<br>",
          "Ohio<br>",
          "Oklahoma<br>",
          "Oregon<br>",
          "Pennsylvania<br>",
          "Puerto Rico<br>",
          "Rhode Island<br>",
          "South Carolina<br>",
          "South Dakota<br>",
          "Tennessee<br>",
          "Texas<br>",
          "Utah<br>",
          "Vermont<br>",
          "Virgin Islands<br>",
          "Virginia<br>",
          "Washington<br>",
          "West Virginia<br>",
          "Wisconsin<br>",
          "Wyoming<br>"
         ],
         "locationmode": "USA-states",
         "locations": [
          "AL",
          "AK",
          "AS",
          "AZ",
          "AR",
          "CA",
          "CO",
          "CT",
          "DE",
          "FL",
          "GA",
          "GU",
          "HI",
          "ID",
          "IL",
          "IN",
          "IA",
          "KS",
          "KY",
          "LA",
          "ME",
          "MD",
          "MA",
          "MI",
          "MN",
          "MS",
          "MO",
          "MT",
          "NE",
          "NV",
          "NH",
          "NJ",
          "NM",
          "NY",
          "NC",
          "ND",
          "MP",
          "OH",
          "OK",
          "OR",
          "PA",
          "PR",
          "RI",
          "SC",
          "SD",
          "TN",
          "TX",
          "UT",
          "VT",
          "VI",
          "VA",
          "WA",
          "WV",
          "WI",
          "WY"
         ],
         "type": "choropleth",
         "visible": true,
         "z": [
          13.92300033189512,
          9.43952802359882,
          0,
          16.258351893095767,
          9.996564754379936,
          11.440237915407856,
          18.2449105490438,
          7.362811699141682,
          8.389261744966444,
          16.359155614643797,
          18.6288864008268,
          1.4184397163120568,
          11.074380165289256,
          8.903020667726551,
          11.247815783804484,
          10.521563997499829,
          5.7541241162608,
          15.119617224880386,
          29.19540229885057,
          6.412190706095352,
          16.165803108808287,
          21.164021164021165,
          9.306815625702932,
          7.79252306198414,
          23.128264654672083,
          17.418677859391394,
          12.256669069935114,
          13.707865168539325,
          0,
          0,
          12.465219810795775,
          6.3716847712752855,
          15.48872180451128,
          20.239027727074564,
          5.200729927007299,
          8.7173100871731,
          0,
          19.984602553409893,
          19.94364433312461,
          23.790501553484244,
          6.677520472383544,
          0,
          8.079674568663206,
          17.970683418998668,
          5.961807172799253,
          8.934595712264665,
          6.612015070591644,
          8.333333333333334,
          4.389086595492288,
          0,
          15.704350638848455,
          3.416172385314213,
          9.603960396039604,
          24.19553367328996,
          10.9979633401222
         ]
        }
       ],
       "layout": {
        "geo": {
         "scope": "usa"
        },
        "sliders": [
         {
          "active": 13,
          "currentvalue": {
           "prefix": "Date: "
          },
          "pad": {
           "t": 1
          },
          "steps": [
           {
            "args": [
             "visible",
             [
              true,
              false,
              false,
              false,
              false,
              false,
              false,
              false,
              false,
              false,
              false,
              false,
              false,
              false
             ]
            ],
            "label": "04-12",
            "method": "restyle"
           },
           {
            "args": [
             "visible",
             [
              false,
              true,
              false,
              false,
              false,
              false,
              false,
              false,
              false,
              false,
              false,
              false,
              false,
              false
             ]
            ],
            "label": "04-13",
            "method": "restyle"
           },
           {
            "args": [
             "visible",
             [
              false,
              false,
              true,
              false,
              false,
              false,
              false,
              false,
              false,
              false,
              false,
              false,
              false,
              false
             ]
            ],
            "label": "04-14",
            "method": "restyle"
           },
           {
            "args": [
             "visible",
             [
              false,
              false,
              false,
              true,
              false,
              false,
              false,
              false,
              false,
              false,
              false,
              false,
              false,
              false
             ]
            ],
            "label": "04-15",
            "method": "restyle"
           },
           {
            "args": [
             "visible",
             [
              false,
              false,
              false,
              false,
              true,
              false,
              false,
              false,
              false,
              false,
              false,
              false,
              false,
              false
             ]
            ],
            "label": "04-16",
            "method": "restyle"
           },
           {
            "args": [
             "visible",
             [
              false,
              false,
              false,
              false,
              false,
              true,
              false,
              false,
              false,
              false,
              false,
              false,
              false,
              false
             ]
            ],
            "label": "04-17",
            "method": "restyle"
           },
           {
            "args": [
             "visible",
             [
              false,
              false,
              false,
              false,
              false,
              false,
              true,
              false,
              false,
              false,
              false,
              false,
              false,
              false
             ]
            ],
            "label": "04-18",
            "method": "restyle"
           },
           {
            "args": [
             "visible",
             [
              false,
              false,
              false,
              false,
              false,
              false,
              false,
              true,
              false,
              false,
              false,
              false,
              false,
              false
             ]
            ],
            "label": "04-19",
            "method": "restyle"
           },
           {
            "args": [
             "visible",
             [
              false,
              false,
              false,
              false,
              false,
              false,
              false,
              false,
              true,
              false,
              false,
              false,
              false,
              false
             ]
            ],
            "label": "04-20",
            "method": "restyle"
           },
           {
            "args": [
             "visible",
             [
              false,
              false,
              false,
              false,
              false,
              false,
              false,
              false,
              false,
              true,
              false,
              false,
              false,
              false
             ]
            ],
            "label": "04-21",
            "method": "restyle"
           },
           {
            "args": [
             "visible",
             [
              false,
              false,
              false,
              false,
              false,
              false,
              false,
              false,
              false,
              false,
              true,
              false,
              false,
              false
             ]
            ],
            "label": "04-22",
            "method": "restyle"
           },
           {
            "args": [
             "visible",
             [
              false,
              false,
              false,
              false,
              false,
              false,
              false,
              false,
              false,
              false,
              false,
              true,
              false,
              false
             ]
            ],
            "label": "04-23",
            "method": "restyle"
           },
           {
            "args": [
             "visible",
             [
              false,
              false,
              false,
              false,
              false,
              false,
              false,
              false,
              false,
              false,
              false,
              false,
              true,
              false
             ]
            ],
            "label": "04-24",
            "method": "restyle"
           },
           {
            "args": [
             "visible",
             [
              false,
              false,
              false,
              false,
              false,
              false,
              false,
              false,
              false,
              false,
              false,
              false,
              false,
              true
             ]
            ],
            "label": "04-25",
            "method": "restyle"
           }
          ]
         }
        ],
        "template": {
         "data": {
          "bar": [
           {
            "error_x": {
             "color": "#2a3f5f"
            },
            "error_y": {
             "color": "#2a3f5f"
            },
            "marker": {
             "line": {
              "color": "#E5ECF6",
              "width": 0.5
             }
            },
            "type": "bar"
           }
          ],
          "barpolar": [
           {
            "marker": {
             "line": {
              "color": "#E5ECF6",
              "width": 0.5
             }
            },
            "type": "barpolar"
           }
          ],
          "carpet": [
           {
            "aaxis": {
             "endlinecolor": "#2a3f5f",
             "gridcolor": "white",
             "linecolor": "white",
             "minorgridcolor": "white",
             "startlinecolor": "#2a3f5f"
            },
            "baxis": {
             "endlinecolor": "#2a3f5f",
             "gridcolor": "white",
             "linecolor": "white",
             "minorgridcolor": "white",
             "startlinecolor": "#2a3f5f"
            },
            "type": "carpet"
           }
          ],
          "choropleth": [
           {
            "colorbar": {
             "outlinewidth": 0,
             "ticks": ""
            },
            "type": "choropleth"
           }
          ],
          "contour": [
           {
            "colorbar": {
             "outlinewidth": 0,
             "ticks": ""
            },
            "colorscale": [
             [
              0,
              "#0d0887"
             ],
             [
              0.1111111111111111,
              "#46039f"
             ],
             [
              0.2222222222222222,
              "#7201a8"
             ],
             [
              0.3333333333333333,
              "#9c179e"
             ],
             [
              0.4444444444444444,
              "#bd3786"
             ],
             [
              0.5555555555555556,
              "#d8576b"
             ],
             [
              0.6666666666666666,
              "#ed7953"
             ],
             [
              0.7777777777777778,
              "#fb9f3a"
             ],
             [
              0.8888888888888888,
              "#fdca26"
             ],
             [
              1,
              "#f0f921"
             ]
            ],
            "type": "contour"
           }
          ],
          "contourcarpet": [
           {
            "colorbar": {
             "outlinewidth": 0,
             "ticks": ""
            },
            "type": "contourcarpet"
           }
          ],
          "heatmap": [
           {
            "colorbar": {
             "outlinewidth": 0,
             "ticks": ""
            },
            "colorscale": [
             [
              0,
              "#0d0887"
             ],
             [
              0.1111111111111111,
              "#46039f"
             ],
             [
              0.2222222222222222,
              "#7201a8"
             ],
             [
              0.3333333333333333,
              "#9c179e"
             ],
             [
              0.4444444444444444,
              "#bd3786"
             ],
             [
              0.5555555555555556,
              "#d8576b"
             ],
             [
              0.6666666666666666,
              "#ed7953"
             ],
             [
              0.7777777777777778,
              "#fb9f3a"
             ],
             [
              0.8888888888888888,
              "#fdca26"
             ],
             [
              1,
              "#f0f921"
             ]
            ],
            "type": "heatmap"
           }
          ],
          "heatmapgl": [
           {
            "colorbar": {
             "outlinewidth": 0,
             "ticks": ""
            },
            "colorscale": [
             [
              0,
              "#0d0887"
             ],
             [
              0.1111111111111111,
              "#46039f"
             ],
             [
              0.2222222222222222,
              "#7201a8"
             ],
             [
              0.3333333333333333,
              "#9c179e"
             ],
             [
              0.4444444444444444,
              "#bd3786"
             ],
             [
              0.5555555555555556,
              "#d8576b"
             ],
             [
              0.6666666666666666,
              "#ed7953"
             ],
             [
              0.7777777777777778,
              "#fb9f3a"
             ],
             [
              0.8888888888888888,
              "#fdca26"
             ],
             [
              1,
              "#f0f921"
             ]
            ],
            "type": "heatmapgl"
           }
          ],
          "histogram": [
           {
            "marker": {
             "colorbar": {
              "outlinewidth": 0,
              "ticks": ""
             }
            },
            "type": "histogram"
           }
          ],
          "histogram2d": [
           {
            "colorbar": {
             "outlinewidth": 0,
             "ticks": ""
            },
            "colorscale": [
             [
              0,
              "#0d0887"
             ],
             [
              0.1111111111111111,
              "#46039f"
             ],
             [
              0.2222222222222222,
              "#7201a8"
             ],
             [
              0.3333333333333333,
              "#9c179e"
             ],
             [
              0.4444444444444444,
              "#bd3786"
             ],
             [
              0.5555555555555556,
              "#d8576b"
             ],
             [
              0.6666666666666666,
              "#ed7953"
             ],
             [
              0.7777777777777778,
              "#fb9f3a"
             ],
             [
              0.8888888888888888,
              "#fdca26"
             ],
             [
              1,
              "#f0f921"
             ]
            ],
            "type": "histogram2d"
           }
          ],
          "histogram2dcontour": [
           {
            "colorbar": {
             "outlinewidth": 0,
             "ticks": ""
            },
            "colorscale": [
             [
              0,
              "#0d0887"
             ],
             [
              0.1111111111111111,
              "#46039f"
             ],
             [
              0.2222222222222222,
              "#7201a8"
             ],
             [
              0.3333333333333333,
              "#9c179e"
             ],
             [
              0.4444444444444444,
              "#bd3786"
             ],
             [
              0.5555555555555556,
              "#d8576b"
             ],
             [
              0.6666666666666666,
              "#ed7953"
             ],
             [
              0.7777777777777778,
              "#fb9f3a"
             ],
             [
              0.8888888888888888,
              "#fdca26"
             ],
             [
              1,
              "#f0f921"
             ]
            ],
            "type": "histogram2dcontour"
           }
          ],
          "mesh3d": [
           {
            "colorbar": {
             "outlinewidth": 0,
             "ticks": ""
            },
            "type": "mesh3d"
           }
          ],
          "parcoords": [
           {
            "line": {
             "colorbar": {
              "outlinewidth": 0,
              "ticks": ""
             }
            },
            "type": "parcoords"
           }
          ],
          "pie": [
           {
            "automargin": true,
            "type": "pie"
           }
          ],
          "scatter": [
           {
            "marker": {
             "colorbar": {
              "outlinewidth": 0,
              "ticks": ""
             }
            },
            "type": "scatter"
           }
          ],
          "scatter3d": [
           {
            "line": {
             "colorbar": {
              "outlinewidth": 0,
              "ticks": ""
             }
            },
            "marker": {
             "colorbar": {
              "outlinewidth": 0,
              "ticks": ""
             }
            },
            "type": "scatter3d"
           }
          ],
          "scattercarpet": [
           {
            "marker": {
             "colorbar": {
              "outlinewidth": 0,
              "ticks": ""
             }
            },
            "type": "scattercarpet"
           }
          ],
          "scattergeo": [
           {
            "marker": {
             "colorbar": {
              "outlinewidth": 0,
              "ticks": ""
             }
            },
            "type": "scattergeo"
           }
          ],
          "scattergl": [
           {
            "marker": {
             "colorbar": {
              "outlinewidth": 0,
              "ticks": ""
             }
            },
            "type": "scattergl"
           }
          ],
          "scattermapbox": [
           {
            "marker": {
             "colorbar": {
              "outlinewidth": 0,
              "ticks": ""
             }
            },
            "type": "scattermapbox"
           }
          ],
          "scatterpolar": [
           {
            "marker": {
             "colorbar": {
              "outlinewidth": 0,
              "ticks": ""
             }
            },
            "type": "scatterpolar"
           }
          ],
          "scatterpolargl": [
           {
            "marker": {
             "colorbar": {
              "outlinewidth": 0,
              "ticks": ""
             }
            },
            "type": "scatterpolargl"
           }
          ],
          "scatterternary": [
           {
            "marker": {
             "colorbar": {
              "outlinewidth": 0,
              "ticks": ""
             }
            },
            "type": "scatterternary"
           }
          ],
          "surface": [
           {
            "colorbar": {
             "outlinewidth": 0,
             "ticks": ""
            },
            "colorscale": [
             [
              0,
              "#0d0887"
             ],
             [
              0.1111111111111111,
              "#46039f"
             ],
             [
              0.2222222222222222,
              "#7201a8"
             ],
             [
              0.3333333333333333,
              "#9c179e"
             ],
             [
              0.4444444444444444,
              "#bd3786"
             ],
             [
              0.5555555555555556,
              "#d8576b"
             ],
             [
              0.6666666666666666,
              "#ed7953"
             ],
             [
              0.7777777777777778,
              "#fb9f3a"
             ],
             [
              0.8888888888888888,
              "#fdca26"
             ],
             [
              1,
              "#f0f921"
             ]
            ],
            "type": "surface"
           }
          ],
          "table": [
           {
            "cells": {
             "fill": {
              "color": "#EBF0F8"
             },
             "line": {
              "color": "white"
             }
            },
            "header": {
             "fill": {
              "color": "#C8D4E3"
             },
             "line": {
              "color": "white"
             }
            },
            "type": "table"
           }
          ]
         },
         "layout": {
          "annotationdefaults": {
           "arrowcolor": "#2a3f5f",
           "arrowhead": 0,
           "arrowwidth": 1
          },
          "coloraxis": {
           "colorbar": {
            "outlinewidth": 0,
            "ticks": ""
           }
          },
          "colorscale": {
           "diverging": [
            [
             0,
             "#8e0152"
            ],
            [
             0.1,
             "#c51b7d"
            ],
            [
             0.2,
             "#de77ae"
            ],
            [
             0.3,
             "#f1b6da"
            ],
            [
             0.4,
             "#fde0ef"
            ],
            [
             0.5,
             "#f7f7f7"
            ],
            [
             0.6,
             "#e6f5d0"
            ],
            [
             0.7,
             "#b8e186"
            ],
            [
             0.8,
             "#7fbc41"
            ],
            [
             0.9,
             "#4d9221"
            ],
            [
             1,
             "#276419"
            ]
           ],
           "sequential": [
            [
             0,
             "#0d0887"
            ],
            [
             0.1111111111111111,
             "#46039f"
            ],
            [
             0.2222222222222222,
             "#7201a8"
            ],
            [
             0.3333333333333333,
             "#9c179e"
            ],
            [
             0.4444444444444444,
             "#bd3786"
            ],
            [
             0.5555555555555556,
             "#d8576b"
            ],
            [
             0.6666666666666666,
             "#ed7953"
            ],
            [
             0.7777777777777778,
             "#fb9f3a"
            ],
            [
             0.8888888888888888,
             "#fdca26"
            ],
            [
             1,
             "#f0f921"
            ]
           ],
           "sequentialminus": [
            [
             0,
             "#0d0887"
            ],
            [
             0.1111111111111111,
             "#46039f"
            ],
            [
             0.2222222222222222,
             "#7201a8"
            ],
            [
             0.3333333333333333,
             "#9c179e"
            ],
            [
             0.4444444444444444,
             "#bd3786"
            ],
            [
             0.5555555555555556,
             "#d8576b"
            ],
            [
             0.6666666666666666,
             "#ed7953"
            ],
            [
             0.7777777777777778,
             "#fb9f3a"
            ],
            [
             0.8888888888888888,
             "#fdca26"
            ],
            [
             1,
             "#f0f921"
            ]
           ]
          },
          "colorway": [
           "#636efa",
           "#EF553B",
           "#00cc96",
           "#ab63fa",
           "#FFA15A",
           "#19d3f3",
           "#FF6692",
           "#B6E880",
           "#FF97FF",
           "#FECB52"
          ],
          "font": {
           "color": "#2a3f5f"
          },
          "geo": {
           "bgcolor": "white",
           "lakecolor": "white",
           "landcolor": "#E5ECF6",
           "showlakes": true,
           "showland": true,
           "subunitcolor": "white"
          },
          "hoverlabel": {
           "align": "left"
          },
          "hovermode": "closest",
          "mapbox": {
           "style": "light"
          },
          "paper_bgcolor": "white",
          "plot_bgcolor": "#E5ECF6",
          "polar": {
           "angularaxis": {
            "gridcolor": "white",
            "linecolor": "white",
            "ticks": ""
           },
           "bgcolor": "#E5ECF6",
           "radialaxis": {
            "gridcolor": "white",
            "linecolor": "white",
            "ticks": ""
           }
          },
          "scene": {
           "xaxis": {
            "backgroundcolor": "#E5ECF6",
            "gridcolor": "white",
            "gridwidth": 2,
            "linecolor": "white",
            "showbackground": true,
            "ticks": "",
            "zerolinecolor": "white"
           },
           "yaxis": {
            "backgroundcolor": "#E5ECF6",
            "gridcolor": "white",
            "gridwidth": 2,
            "linecolor": "white",
            "showbackground": true,
            "ticks": "",
            "zerolinecolor": "white"
           },
           "zaxis": {
            "backgroundcolor": "#E5ECF6",
            "gridcolor": "white",
            "gridwidth": 2,
            "linecolor": "white",
            "showbackground": true,
            "ticks": "",
            "zerolinecolor": "white"
           }
          },
          "shapedefaults": {
           "line": {
            "color": "#2a3f5f"
           }
          },
          "ternary": {
           "aaxis": {
            "gridcolor": "white",
            "linecolor": "white",
            "ticks": ""
           },
           "baxis": {
            "gridcolor": "white",
            "linecolor": "white",
            "ticks": ""
           },
           "bgcolor": "#E5ECF6",
           "caxis": {
            "gridcolor": "white",
            "linecolor": "white",
            "ticks": ""
           }
          },
          "title": {
           "x": 0.05
          },
          "xaxis": {
           "automargin": true,
           "gridcolor": "white",
           "linecolor": "white",
           "ticks": "",
           "title": {
            "standoff": 15
           },
           "zerolinecolor": "white",
           "zerolinewidth": 2
          },
          "yaxis": {
           "automargin": true,
           "gridcolor": "white",
           "linecolor": "white",
           "ticks": "",
           "title": {
            "standoff": 15
           },
           "zerolinecolor": "white",
           "zerolinewidth": 2
          }
         }
        },
        "title": {
         "text": "COVID-19 USA Data Visualization"
        }
       }
      }
     },
     "metadata": {}
    }
   ],
   "source": [
    "fig = go.Figure()\n",
    "\n",
    "colors = ['#FFE9E5', '#FFAFA1', '#FF745C' , '#FF745C', '#9A1903']\n",
    "\n",
    "# Add traces, one for each slider step\n",
    "for i in output_df:\n",
    "    #print(i['total_confirmed'].astype(int))\n",
    "    fig.add_trace(\n",
    "        go.Choropleth(\n",
    "    locations=i['code'], # Spatial coordinates\n",
    "    z = i['hosp_rate'], # Data to be color-coded,\n",
    "    colorscale = 'reds',\n",
    "    locationmode = 'USA-states', # set of locations match entries in `locations`\n",
    "    colorbar_title = \"People\",\n",
    "    hovertext = i['state'] + '<br>',\n",
    "    ))\n",
    "\n",
    "# Make 10th trace visible\n",
    "\n",
    "last = len(output_df) - 1\n",
    "\n",
    "fig.data[last].visible = True\n",
    "\n",
    "# Create and add slider\n",
    "steps = []\n",
    "for i in range(len(fig.data)):\n",
    "    step = dict(\n",
    "        method=\"restyle\",\n",
    "        args=[\"visible\", [False] * len(fig.data)],\n",
    "        label= output_df[i]['date'][0][:5])\n",
    "    step[\"args\"][1][i] = True  # Toggle i'th trace to \"visible\"\n",
    "    steps.append(step)\n",
    "\n",
    "sliders = [dict(\n",
    "    active=last,\n",
    "    currentvalue={\"prefix\": \"Date: \"},\n",
    "    pad={\"t\": 1},\n",
    "    steps=steps\n",
    ")]\n",
    "\n",
    "fig.update_layout(\n",
    "    sliders=sliders,\n",
    "    title_text = 'COVID-19 USA Data Visualization',\n",
    "    geo_scope='usa', # limite map scope to USA\n",
    ")\n",
    "\n",
    "\n",
    "fig.show()"
   ]
  },
  {
   "cell_type": "code",
   "execution_count": 50,
   "metadata": {},
   "outputs": [
    {
     "output_type": "error",
     "ename": "TypeError",
     "evalue": "choropleth() got an unexpected keyword argument 'log_x'",
     "traceback": [
      "\u001b[0;31m---------------------------------------------------------------------------\u001b[0m",
      "\u001b[0;31mTypeError\u001b[0m                                 Traceback (most recent call last)",
      "\u001b[0;32m<ipython-input-50-8d6dab54bbab>\u001b[0m in \u001b[0;36m<module>\u001b[0;34m\u001b[0m\n\u001b[1;32m      3\u001b[0m \u001b[0mgapminder\u001b[0m \u001b[0;34m=\u001b[0m \u001b[0mentire\u001b[0m\u001b[0;34m\u001b[0m\u001b[0;34m\u001b[0m\u001b[0m\n\u001b[1;32m      4\u001b[0m px.choropleth(entire, scope='usa', locations=\"code\", color=\"total_confirmed\", hover_name=\"total_confirmed\", animation_frame='date', animation_group=\"state\",\n\u001b[0;32m----> 5\u001b[0;31m            log_x=True, size_max=55, range_x=[100,100000], range_y=[25,90])\n\u001b[0m",
      "\u001b[0;31mTypeError\u001b[0m: choropleth() got an unexpected keyword argument 'log_x'"
     ]
    }
   ],
   "source": [
    "import plotly.express as px\n",
    "#gapminder = px.data.gapminder()\n",
    "gapminder = entire\n",
    "px.choropleth(entire, scope='usa', locations=\"code\", color=\"total_confirmed\", hover_name=\"total_confirmed\", animation_frame='date', animation_group=\"state\",\n",
    "           log_x=True, size_max=55, range_x=[100,100000], range_y=[25,90])"
   ]
  },
  {
   "cell_type": "code",
   "execution_count": 55,
   "metadata": {},
   "outputs": [
    {
     "output_type": "execute_result",
     "data": {
      "text/plain": "   code                     state  total_confirmed  death  recovered  \\\n0    AL                   Alabama             6026    209        0.0   \n1    AK                    Alaska              339      9      217.0   \n2    AS            American Samoa                0      0        0.0   \n3    AZ                   Arizona             6286    273     1345.0   \n4    AR                  Arkansas             2911     48      964.0   \n5    CA                California            42368   1689        0.0   \n6    CO                  Colorado            12968    684     2086.0   \n7    CT               Connecticut            24583   1865        0.0   \n8    DE                  Delaware             3576    112      809.0   \n9    FL                   Florida            30839   1055        0.0   \n10   GA                   Georgia            23222    907        0.0   \n11   GU                      Guam              141      5      128.0   \n12   HI                    Hawaii              605     13      463.0   \n13   ID                     Idaho             1887     56      867.0   \n14   IL                  Illinois            41777   1875        0.0   \n15   IN                   Indiana            14399    786        0.0   \n16   IA                      Iowa             5092    112     1723.0   \n17   KS                    Kansas             3135    120        0.0   \n18   KY                  Kentucky             3915    205     1341.0   \n19   LA                 Louisiana            26512   1707    14927.0   \n20   ME                     Maine              965     47      519.0   \n21   MD                  Maryland            17766    875     1165.0   \n22   MA             Massachusetts            53348   2730        0.0   \n23   MI                  Michigan            37074   3155     8342.0   \n24   MN                 Minnesota             3446    244     1654.0   \n25   MS               Mississippi             5718    221        0.0   \n26   MO                  Missouri             6935    281        0.0   \n27   MT                   Montana              445     14      339.0   \n28   NE                  Nebraska             2719     50        0.0   \n29   NV                    Nevada             4539    205        0.0   \n30   NH             New Hampshire             1797     53      578.0   \n31   NJ                New Jersey           105498   5914        0.0   \n32   NM                New Mexico             2660     93      614.0   \n33   NY                  New York           282143  22009    23887.0   \n34   NC            North Carolina             8768    305        0.0   \n35   ND              North Dakota              803     16      310.0   \n36   MP  Northern Mariana Islands               14      2       11.0   \n37   OH                      Ohio            15587    711        0.0   \n38   OK                  Oklahoma             3194    194     2080.0   \n39   OR                    Oregon             2253     87        0.0   \n40   PA              Pennsylvania            41153   1793        0.0   \n41   PR               Puerto Rico             1307     83        0.0   \n42   RI              Rhode Island             7129    215      410.0   \n43   SC            South Carolina             5253    166     3701.0   \n44   SD              South Dakota             2147     10     1223.0   \n45   TN                 Tennessee             9189    177     4467.0   \n46   TX                     Texas            24153    638     9986.0   \n47   UT                      Utah             3948     41     1399.0   \n48   VT                   Vermont              843     46     1710.0   \n49   VI            Virgin Islands               55      3       51.0   \n50   VA                  Virginia            12366    437     1717.0   \n51   WA                Washington            13319    737        0.0   \n52   WV             West Virginia             1010     32      439.0   \n53   WI                 Wisconsin             5687    266        0.0   \n54   WY                   Wyoming              491      7      321.0   \n\n    testing_rate  hosp_rate  mortality_rate        date  \n0    1521.551870  13.923000        3.468304  04-25-2020  \n1    2631.873914   9.439528        2.654867  04-25-2020  \n2       5.391708   0.000000        0.000000  04-25-2020  \n3     858.777721  16.258352        4.342984  04-25-2020  \n4    1469.779960   9.996565        1.648918  04-25-2020  \n5    1290.621807  11.440238        3.986499  04-25-2020  \n6    1002.132945  18.244911        5.274522  04-25-2020  \n7    2176.598967   7.362812        7.586544  04-25-2020  \n8    1817.483497   8.389262        3.131991  04-25-2020  \n9    1568.808841  16.359156        3.420993  04-25-2020  \n10   1173.778351  18.628886        3.905779  04-25-2020  \n11    882.304587   1.418440        3.546099  04-25-2020  \n12   1980.525305  11.074380        2.148760  04-25-2020  \n13   1202.175478   8.903021        2.967674  04-25-2020  \n14   1717.987060  11.247816        4.488115  04-25-2020  \n15   1219.041460  10.521564        5.458712  04-25-2020  \n16   1310.712009   5.754124        2.199529  04-25-2020  \n17   1033.386262  15.119617        3.827751  04-25-2020  \n18   1313.409885  29.195402        5.236271  04-25-2020  \n19   3023.579667   6.412191        6.438594  04-25-2020  \n20   1513.961598  16.165803        4.870466  04-25-2020  \n21   1499.545289  21.164021        4.925138  04-25-2020  \n22   3304.961179   9.306816        5.117343  04-25-2020  \n23   1807.949258   7.792523        8.510007  04-25-2020  \n24   1206.906939  23.128265        7.080673  04-25-2020  \n25   2036.366324  17.418678        3.864988  04-25-2020  \n26   1147.171342  12.256669        4.051911  04-25-2020  \n27   1443.093257  13.707865        3.146067  04-25-2020  \n28   1309.471360   0.000000        1.838911  04-25-2020  \n29   1233.401962   0.000000        4.516413  04-25-2020  \n30   1334.715709  12.465220        2.949360  04-25-2020  \n31   2405.780556   6.371685        5.605793  04-25-2020  \n32   3088.994341  15.488722        3.496241  04-25-2020  \n33   4611.629483  20.239028        7.800654  04-25-2020  \n34   1061.366472   5.200730        3.478558  04-25-2020  \n35   3190.868345   8.717310        1.992528  04-25-2020  \n36    117.873205   0.000000       14.285714  04-25-2020  \n37    996.781775  19.984603        4.561494  04-25-2020  \n38   1451.320717  19.943644        6.073889  04-25-2020  \n39   1182.334042  23.790502        3.861518  04-25-2020  \n40   1532.751110   6.677520        4.356912  04-25-2020  \n41    362.036239   0.000000        6.350421  04-25-2020  \n42   4803.933692   8.079675        3.015851  04-25-2020  \n43    972.504824  17.970683        3.160099  04-25-2020  \n44   2119.332728   5.961807        0.465766  04-25-2020  \n45   2153.960843   8.934596        1.926216  04-25-2020  \n46   1143.445811   6.612015        2.641494  04-25-2020  \n47   3147.582489   8.333333        1.038501  04-25-2020  \n48   2404.555586   4.389087        5.456702  04-25-2020  \n49    697.318865   0.000000        5.454545  04-25-2020  \n50    912.810175  15.704351        3.533883  04-25-2020  \n51   2123.664613   3.416172        5.533448  04-25-2020  \n52   2491.764916   9.603960        3.168317  04-25-2020  \n53   1214.110310  24.195534        4.677334  04-25-2020  \n54   1638.243102  10.997963        1.425662  04-25-2020  ",
      "text/html": "<div>\n<style scoped>\n    .dataframe tbody tr th:only-of-type {\n        vertical-align: middle;\n    }\n\n    .dataframe tbody tr th {\n        vertical-align: top;\n    }\n\n    .dataframe thead th {\n        text-align: right;\n    }\n</style>\n<table border=\"1\" class=\"dataframe\">\n  <thead>\n    <tr style=\"text-align: right;\">\n      <th></th>\n      <th>code</th>\n      <th>state</th>\n      <th>total_confirmed</th>\n      <th>death</th>\n      <th>recovered</th>\n      <th>testing_rate</th>\n      <th>hosp_rate</th>\n      <th>mortality_rate</th>\n      <th>date</th>\n    </tr>\n  </thead>\n  <tbody>\n    <tr>\n      <td>0</td>\n      <td>AL</td>\n      <td>Alabama</td>\n      <td>6026</td>\n      <td>209</td>\n      <td>0.0</td>\n      <td>1521.551870</td>\n      <td>13.923000</td>\n      <td>3.468304</td>\n      <td>04-25-2020</td>\n    </tr>\n    <tr>\n      <td>1</td>\n      <td>AK</td>\n      <td>Alaska</td>\n      <td>339</td>\n      <td>9</td>\n      <td>217.0</td>\n      <td>2631.873914</td>\n      <td>9.439528</td>\n      <td>2.654867</td>\n      <td>04-25-2020</td>\n    </tr>\n    <tr>\n      <td>2</td>\n      <td>AS</td>\n      <td>American Samoa</td>\n      <td>0</td>\n      <td>0</td>\n      <td>0.0</td>\n      <td>5.391708</td>\n      <td>0.000000</td>\n      <td>0.000000</td>\n      <td>04-25-2020</td>\n    </tr>\n    <tr>\n      <td>3</td>\n      <td>AZ</td>\n      <td>Arizona</td>\n      <td>6286</td>\n      <td>273</td>\n      <td>1345.0</td>\n      <td>858.777721</td>\n      <td>16.258352</td>\n      <td>4.342984</td>\n      <td>04-25-2020</td>\n    </tr>\n    <tr>\n      <td>4</td>\n      <td>AR</td>\n      <td>Arkansas</td>\n      <td>2911</td>\n      <td>48</td>\n      <td>964.0</td>\n      <td>1469.779960</td>\n      <td>9.996565</td>\n      <td>1.648918</td>\n      <td>04-25-2020</td>\n    </tr>\n    <tr>\n      <td>5</td>\n      <td>CA</td>\n      <td>California</td>\n      <td>42368</td>\n      <td>1689</td>\n      <td>0.0</td>\n      <td>1290.621807</td>\n      <td>11.440238</td>\n      <td>3.986499</td>\n      <td>04-25-2020</td>\n    </tr>\n    <tr>\n      <td>6</td>\n      <td>CO</td>\n      <td>Colorado</td>\n      <td>12968</td>\n      <td>684</td>\n      <td>2086.0</td>\n      <td>1002.132945</td>\n      <td>18.244911</td>\n      <td>5.274522</td>\n      <td>04-25-2020</td>\n    </tr>\n    <tr>\n      <td>7</td>\n      <td>CT</td>\n      <td>Connecticut</td>\n      <td>24583</td>\n      <td>1865</td>\n      <td>0.0</td>\n      <td>2176.598967</td>\n      <td>7.362812</td>\n      <td>7.586544</td>\n      <td>04-25-2020</td>\n    </tr>\n    <tr>\n      <td>8</td>\n      <td>DE</td>\n      <td>Delaware</td>\n      <td>3576</td>\n      <td>112</td>\n      <td>809.0</td>\n      <td>1817.483497</td>\n      <td>8.389262</td>\n      <td>3.131991</td>\n      <td>04-25-2020</td>\n    </tr>\n    <tr>\n      <td>9</td>\n      <td>FL</td>\n      <td>Florida</td>\n      <td>30839</td>\n      <td>1055</td>\n      <td>0.0</td>\n      <td>1568.808841</td>\n      <td>16.359156</td>\n      <td>3.420993</td>\n      <td>04-25-2020</td>\n    </tr>\n    <tr>\n      <td>10</td>\n      <td>GA</td>\n      <td>Georgia</td>\n      <td>23222</td>\n      <td>907</td>\n      <td>0.0</td>\n      <td>1173.778351</td>\n      <td>18.628886</td>\n      <td>3.905779</td>\n      <td>04-25-2020</td>\n    </tr>\n    <tr>\n      <td>11</td>\n      <td>GU</td>\n      <td>Guam</td>\n      <td>141</td>\n      <td>5</td>\n      <td>128.0</td>\n      <td>882.304587</td>\n      <td>1.418440</td>\n      <td>3.546099</td>\n      <td>04-25-2020</td>\n    </tr>\n    <tr>\n      <td>12</td>\n      <td>HI</td>\n      <td>Hawaii</td>\n      <td>605</td>\n      <td>13</td>\n      <td>463.0</td>\n      <td>1980.525305</td>\n      <td>11.074380</td>\n      <td>2.148760</td>\n      <td>04-25-2020</td>\n    </tr>\n    <tr>\n      <td>13</td>\n      <td>ID</td>\n      <td>Idaho</td>\n      <td>1887</td>\n      <td>56</td>\n      <td>867.0</td>\n      <td>1202.175478</td>\n      <td>8.903021</td>\n      <td>2.967674</td>\n      <td>04-25-2020</td>\n    </tr>\n    <tr>\n      <td>14</td>\n      <td>IL</td>\n      <td>Illinois</td>\n      <td>41777</td>\n      <td>1875</td>\n      <td>0.0</td>\n      <td>1717.987060</td>\n      <td>11.247816</td>\n      <td>4.488115</td>\n      <td>04-25-2020</td>\n    </tr>\n    <tr>\n      <td>15</td>\n      <td>IN</td>\n      <td>Indiana</td>\n      <td>14399</td>\n      <td>786</td>\n      <td>0.0</td>\n      <td>1219.041460</td>\n      <td>10.521564</td>\n      <td>5.458712</td>\n      <td>04-25-2020</td>\n    </tr>\n    <tr>\n      <td>16</td>\n      <td>IA</td>\n      <td>Iowa</td>\n      <td>5092</td>\n      <td>112</td>\n      <td>1723.0</td>\n      <td>1310.712009</td>\n      <td>5.754124</td>\n      <td>2.199529</td>\n      <td>04-25-2020</td>\n    </tr>\n    <tr>\n      <td>17</td>\n      <td>KS</td>\n      <td>Kansas</td>\n      <td>3135</td>\n      <td>120</td>\n      <td>0.0</td>\n      <td>1033.386262</td>\n      <td>15.119617</td>\n      <td>3.827751</td>\n      <td>04-25-2020</td>\n    </tr>\n    <tr>\n      <td>18</td>\n      <td>KY</td>\n      <td>Kentucky</td>\n      <td>3915</td>\n      <td>205</td>\n      <td>1341.0</td>\n      <td>1313.409885</td>\n      <td>29.195402</td>\n      <td>5.236271</td>\n      <td>04-25-2020</td>\n    </tr>\n    <tr>\n      <td>19</td>\n      <td>LA</td>\n      <td>Louisiana</td>\n      <td>26512</td>\n      <td>1707</td>\n      <td>14927.0</td>\n      <td>3023.579667</td>\n      <td>6.412191</td>\n      <td>6.438594</td>\n      <td>04-25-2020</td>\n    </tr>\n    <tr>\n      <td>20</td>\n      <td>ME</td>\n      <td>Maine</td>\n      <td>965</td>\n      <td>47</td>\n      <td>519.0</td>\n      <td>1513.961598</td>\n      <td>16.165803</td>\n      <td>4.870466</td>\n      <td>04-25-2020</td>\n    </tr>\n    <tr>\n      <td>21</td>\n      <td>MD</td>\n      <td>Maryland</td>\n      <td>17766</td>\n      <td>875</td>\n      <td>1165.0</td>\n      <td>1499.545289</td>\n      <td>21.164021</td>\n      <td>4.925138</td>\n      <td>04-25-2020</td>\n    </tr>\n    <tr>\n      <td>22</td>\n      <td>MA</td>\n      <td>Massachusetts</td>\n      <td>53348</td>\n      <td>2730</td>\n      <td>0.0</td>\n      <td>3304.961179</td>\n      <td>9.306816</td>\n      <td>5.117343</td>\n      <td>04-25-2020</td>\n    </tr>\n    <tr>\n      <td>23</td>\n      <td>MI</td>\n      <td>Michigan</td>\n      <td>37074</td>\n      <td>3155</td>\n      <td>8342.0</td>\n      <td>1807.949258</td>\n      <td>7.792523</td>\n      <td>8.510007</td>\n      <td>04-25-2020</td>\n    </tr>\n    <tr>\n      <td>24</td>\n      <td>MN</td>\n      <td>Minnesota</td>\n      <td>3446</td>\n      <td>244</td>\n      <td>1654.0</td>\n      <td>1206.906939</td>\n      <td>23.128265</td>\n      <td>7.080673</td>\n      <td>04-25-2020</td>\n    </tr>\n    <tr>\n      <td>25</td>\n      <td>MS</td>\n      <td>Mississippi</td>\n      <td>5718</td>\n      <td>221</td>\n      <td>0.0</td>\n      <td>2036.366324</td>\n      <td>17.418678</td>\n      <td>3.864988</td>\n      <td>04-25-2020</td>\n    </tr>\n    <tr>\n      <td>26</td>\n      <td>MO</td>\n      <td>Missouri</td>\n      <td>6935</td>\n      <td>281</td>\n      <td>0.0</td>\n      <td>1147.171342</td>\n      <td>12.256669</td>\n      <td>4.051911</td>\n      <td>04-25-2020</td>\n    </tr>\n    <tr>\n      <td>27</td>\n      <td>MT</td>\n      <td>Montana</td>\n      <td>445</td>\n      <td>14</td>\n      <td>339.0</td>\n      <td>1443.093257</td>\n      <td>13.707865</td>\n      <td>3.146067</td>\n      <td>04-25-2020</td>\n    </tr>\n    <tr>\n      <td>28</td>\n      <td>NE</td>\n      <td>Nebraska</td>\n      <td>2719</td>\n      <td>50</td>\n      <td>0.0</td>\n      <td>1309.471360</td>\n      <td>0.000000</td>\n      <td>1.838911</td>\n      <td>04-25-2020</td>\n    </tr>\n    <tr>\n      <td>29</td>\n      <td>NV</td>\n      <td>Nevada</td>\n      <td>4539</td>\n      <td>205</td>\n      <td>0.0</td>\n      <td>1233.401962</td>\n      <td>0.000000</td>\n      <td>4.516413</td>\n      <td>04-25-2020</td>\n    </tr>\n    <tr>\n      <td>30</td>\n      <td>NH</td>\n      <td>New Hampshire</td>\n      <td>1797</td>\n      <td>53</td>\n      <td>578.0</td>\n      <td>1334.715709</td>\n      <td>12.465220</td>\n      <td>2.949360</td>\n      <td>04-25-2020</td>\n    </tr>\n    <tr>\n      <td>31</td>\n      <td>NJ</td>\n      <td>New Jersey</td>\n      <td>105498</td>\n      <td>5914</td>\n      <td>0.0</td>\n      <td>2405.780556</td>\n      <td>6.371685</td>\n      <td>5.605793</td>\n      <td>04-25-2020</td>\n    </tr>\n    <tr>\n      <td>32</td>\n      <td>NM</td>\n      <td>New Mexico</td>\n      <td>2660</td>\n      <td>93</td>\n      <td>614.0</td>\n      <td>3088.994341</td>\n      <td>15.488722</td>\n      <td>3.496241</td>\n      <td>04-25-2020</td>\n    </tr>\n    <tr>\n      <td>33</td>\n      <td>NY</td>\n      <td>New York</td>\n      <td>282143</td>\n      <td>22009</td>\n      <td>23887.0</td>\n      <td>4611.629483</td>\n      <td>20.239028</td>\n      <td>7.800654</td>\n      <td>04-25-2020</td>\n    </tr>\n    <tr>\n      <td>34</td>\n      <td>NC</td>\n      <td>North Carolina</td>\n      <td>8768</td>\n      <td>305</td>\n      <td>0.0</td>\n      <td>1061.366472</td>\n      <td>5.200730</td>\n      <td>3.478558</td>\n      <td>04-25-2020</td>\n    </tr>\n    <tr>\n      <td>35</td>\n      <td>ND</td>\n      <td>North Dakota</td>\n      <td>803</td>\n      <td>16</td>\n      <td>310.0</td>\n      <td>3190.868345</td>\n      <td>8.717310</td>\n      <td>1.992528</td>\n      <td>04-25-2020</td>\n    </tr>\n    <tr>\n      <td>36</td>\n      <td>MP</td>\n      <td>Northern Mariana Islands</td>\n      <td>14</td>\n      <td>2</td>\n      <td>11.0</td>\n      <td>117.873205</td>\n      <td>0.000000</td>\n      <td>14.285714</td>\n      <td>04-25-2020</td>\n    </tr>\n    <tr>\n      <td>37</td>\n      <td>OH</td>\n      <td>Ohio</td>\n      <td>15587</td>\n      <td>711</td>\n      <td>0.0</td>\n      <td>996.781775</td>\n      <td>19.984603</td>\n      <td>4.561494</td>\n      <td>04-25-2020</td>\n    </tr>\n    <tr>\n      <td>38</td>\n      <td>OK</td>\n      <td>Oklahoma</td>\n      <td>3194</td>\n      <td>194</td>\n      <td>2080.0</td>\n      <td>1451.320717</td>\n      <td>19.943644</td>\n      <td>6.073889</td>\n      <td>04-25-2020</td>\n    </tr>\n    <tr>\n      <td>39</td>\n      <td>OR</td>\n      <td>Oregon</td>\n      <td>2253</td>\n      <td>87</td>\n      <td>0.0</td>\n      <td>1182.334042</td>\n      <td>23.790502</td>\n      <td>3.861518</td>\n      <td>04-25-2020</td>\n    </tr>\n    <tr>\n      <td>40</td>\n      <td>PA</td>\n      <td>Pennsylvania</td>\n      <td>41153</td>\n      <td>1793</td>\n      <td>0.0</td>\n      <td>1532.751110</td>\n      <td>6.677520</td>\n      <td>4.356912</td>\n      <td>04-25-2020</td>\n    </tr>\n    <tr>\n      <td>41</td>\n      <td>PR</td>\n      <td>Puerto Rico</td>\n      <td>1307</td>\n      <td>83</td>\n      <td>0.0</td>\n      <td>362.036239</td>\n      <td>0.000000</td>\n      <td>6.350421</td>\n      <td>04-25-2020</td>\n    </tr>\n    <tr>\n      <td>42</td>\n      <td>RI</td>\n      <td>Rhode Island</td>\n      <td>7129</td>\n      <td>215</td>\n      <td>410.0</td>\n      <td>4803.933692</td>\n      <td>8.079675</td>\n      <td>3.015851</td>\n      <td>04-25-2020</td>\n    </tr>\n    <tr>\n      <td>43</td>\n      <td>SC</td>\n      <td>South Carolina</td>\n      <td>5253</td>\n      <td>166</td>\n      <td>3701.0</td>\n      <td>972.504824</td>\n      <td>17.970683</td>\n      <td>3.160099</td>\n      <td>04-25-2020</td>\n    </tr>\n    <tr>\n      <td>44</td>\n      <td>SD</td>\n      <td>South Dakota</td>\n      <td>2147</td>\n      <td>10</td>\n      <td>1223.0</td>\n      <td>2119.332728</td>\n      <td>5.961807</td>\n      <td>0.465766</td>\n      <td>04-25-2020</td>\n    </tr>\n    <tr>\n      <td>45</td>\n      <td>TN</td>\n      <td>Tennessee</td>\n      <td>9189</td>\n      <td>177</td>\n      <td>4467.0</td>\n      <td>2153.960843</td>\n      <td>8.934596</td>\n      <td>1.926216</td>\n      <td>04-25-2020</td>\n    </tr>\n    <tr>\n      <td>46</td>\n      <td>TX</td>\n      <td>Texas</td>\n      <td>24153</td>\n      <td>638</td>\n      <td>9986.0</td>\n      <td>1143.445811</td>\n      <td>6.612015</td>\n      <td>2.641494</td>\n      <td>04-25-2020</td>\n    </tr>\n    <tr>\n      <td>47</td>\n      <td>UT</td>\n      <td>Utah</td>\n      <td>3948</td>\n      <td>41</td>\n      <td>1399.0</td>\n      <td>3147.582489</td>\n      <td>8.333333</td>\n      <td>1.038501</td>\n      <td>04-25-2020</td>\n    </tr>\n    <tr>\n      <td>48</td>\n      <td>VT</td>\n      <td>Vermont</td>\n      <td>843</td>\n      <td>46</td>\n      <td>1710.0</td>\n      <td>2404.555586</td>\n      <td>4.389087</td>\n      <td>5.456702</td>\n      <td>04-25-2020</td>\n    </tr>\n    <tr>\n      <td>49</td>\n      <td>VI</td>\n      <td>Virgin Islands</td>\n      <td>55</td>\n      <td>3</td>\n      <td>51.0</td>\n      <td>697.318865</td>\n      <td>0.000000</td>\n      <td>5.454545</td>\n      <td>04-25-2020</td>\n    </tr>\n    <tr>\n      <td>50</td>\n      <td>VA</td>\n      <td>Virginia</td>\n      <td>12366</td>\n      <td>437</td>\n      <td>1717.0</td>\n      <td>912.810175</td>\n      <td>15.704351</td>\n      <td>3.533883</td>\n      <td>04-25-2020</td>\n    </tr>\n    <tr>\n      <td>51</td>\n      <td>WA</td>\n      <td>Washington</td>\n      <td>13319</td>\n      <td>737</td>\n      <td>0.0</td>\n      <td>2123.664613</td>\n      <td>3.416172</td>\n      <td>5.533448</td>\n      <td>04-25-2020</td>\n    </tr>\n    <tr>\n      <td>52</td>\n      <td>WV</td>\n      <td>West Virginia</td>\n      <td>1010</td>\n      <td>32</td>\n      <td>439.0</td>\n      <td>2491.764916</td>\n      <td>9.603960</td>\n      <td>3.168317</td>\n      <td>04-25-2020</td>\n    </tr>\n    <tr>\n      <td>53</td>\n      <td>WI</td>\n      <td>Wisconsin</td>\n      <td>5687</td>\n      <td>266</td>\n      <td>0.0</td>\n      <td>1214.110310</td>\n      <td>24.195534</td>\n      <td>4.677334</td>\n      <td>04-25-2020</td>\n    </tr>\n    <tr>\n      <td>54</td>\n      <td>WY</td>\n      <td>Wyoming</td>\n      <td>491</td>\n      <td>7</td>\n      <td>321.0</td>\n      <td>1638.243102</td>\n      <td>10.997963</td>\n      <td>1.425662</td>\n      <td>04-25-2020</td>\n    </tr>\n  </tbody>\n</table>\n</div>"
     },
     "metadata": {},
     "execution_count": 55
    }
   ],
   "source": [
    "entire"
   ]
  },
  {
   "cell_type": "code",
   "execution_count": null,
   "metadata": {},
   "outputs": [],
   "source": [
    "date = [i['date'][0] for i in output_df]\n",
    "\n",
    "# make figure\n",
    "fig_dict = {\n",
    "    \"data\": [],\n",
    "    \"layout\": {},\n",
    "    \"frames\": []\n",
    "}\n",
    "\n",
    "# fill in most of layout\n",
    "fig_dict[\"layout\"][\"xaxis\"] = {\"range\": [30, 85], \"title\": \"Life Expectancy\"}\n",
    "fig_dict[\"layout\"][\"yaxis\"] = {\"title\": \"GDP per Capita\", \"type\": \"log\"}\n",
    "fig_dict[\"layout\"][\"hovermode\"] = \"closest\"\n",
    "fig_dict[\"layout\"][\"sliders\"] = {\n",
    "    \"args\": [\n",
    "        \"transition\", {\n",
    "            \"duration\": 400,\n",
    "            \"easing\": \"cubic-in-out\"\n",
    "        }\n",
    "    ],\n",
    "    \"initialValue\": \"04-12-2020\",\n",
    "    \"plotlycommand\": \"animate\",\n",
    "    \"values\": date,\n",
    "    \"visible\": True\n",
    "}\n",
    "fig_dict[\"layout\"][\"updatemenus\"] = [\n",
    "    {\n",
    "        \"buttons\": [\n",
    "            {\n",
    "                \"args\": [None, {\"frame\": {\"duration\": 500, \"redraw\": False},\n",
    "                                \"fromcurrent\": True, \"transition\": {\"duration\": 300,\n",
    "                                                                    \"easing\": \"quadratic-in-out\"}}],\n",
    "                \"label\": \"Play\",\n",
    "                \"method\": \"animate\"\n",
    "            },\n",
    "            {\n",
    "                \"args\": [[None], {\"frame\": {\"duration\": 0, \"redraw\": False},\n",
    "                                  \"mode\": \"immediate\",\n",
    "                                  \"transition\": {\"duration\": 0}}],\n",
    "                \"label\": \"Pause\",\n",
    "                \"method\": \"animate\"\n",
    "            }\n",
    "        ],\n",
    "        \"direction\": \"left\",\n",
    "        \"pad\": {\"r\": 10, \"t\": 87},\n",
    "        \"showactive\": False,\n",
    "        \"type\": \"buttons\",\n",
    "        \"x\": 0.1,\n",
    "        \"xanchor\": \"right\",\n",
    "        \"y\": 0,\n",
    "        \"yanchor\": \"top\"\n",
    "    }\n",
    "]\n",
    "\n",
    "sliders_dict = {\n",
    "    \"active\": 0,\n",
    "    \"yanchor\": \"top\",\n",
    "    \"xanchor\": \"left\",\n",
    "    \"currentvalue\": {\n",
    "        \"font\": {\"size\": 20},\n",
    "        \"prefix\": \"Year:\",\n",
    "        \"visible\": True,\n",
    "        \"xanchor\": \"right\"\n",
    "    },\n",
    "    \"transition\": {\"duration\": 300, \"easing\": \"cubic-in-out\"},\n",
    "    \"pad\": {\"b\": 10, \"t\": 50},\n",
    "    \"len\": 0.9,\n",
    "    \"x\": 0.1,\n",
    "    \"y\": 0,\n",
    "    \"steps\": []\n",
    "}\n",
    "\n",
    "# make data\n",
    "year = 1952\n",
    "for continent in continents:\n",
    "    dataset_by_year = dataset[dataset[\"year\"] == year]\n",
    "    dataset_by_year_and_cont = dataset_by_year[\n",
    "        dataset_by_year[\"continent\"] == continent]\n",
    "\n",
    "    data_dict = {\n",
    "        \"x\": list(dataset_by_year_and_cont[\"lifeExp\"]),\n",
    "        \"y\": list(dataset_by_year_and_cont[\"gdpPercap\"]),\n",
    "        \"mode\": \"markers\",\n",
    "        \"text\": list(dataset_by_year_and_cont[\"country\"]),\n",
    "        \"marker\": {\n",
    "            \"sizemode\": \"area\",\n",
    "            \"sizeref\": 200000,\n",
    "            \"size\": list(dataset_by_year_and_cont[\"pop\"])\n",
    "        },\n",
    "        \"name\": continent\n",
    "    }\n",
    "    fig_dict[\"data\"].append(data_dict)\n",
    "\n",
    "# make frames\n",
    "for year in years:\n",
    "    frame = {\"data\": [], \"name\": str(year)}\n",
    "    for continent in continents:\n",
    "        dataset_by_year = dataset[dataset[\"year\"] == int(year)]\n",
    "        dataset_by_year_and_cont = dataset_by_year[\n",
    "            dataset_by_year[\"continent\"] == continent]\n",
    "\n",
    "        data_dict = {\n",
    "            \"x\": list(dataset_by_year_and_cont[\"lifeExp\"]),\n",
    "            \"y\": list(dataset_by_year_and_cont[\"gdpPercap\"]),\n",
    "            \"mode\": \"markers\",\n",
    "            \"text\": list(dataset_by_year_and_cont[\"country\"]),\n",
    "            \"marker\": {\n",
    "                \"sizemode\": \"area\",\n",
    "                \"sizeref\": 200000,\n",
    "                \"size\": list(dataset_by_year_and_cont[\"pop\"])\n",
    "            },\n",
    "            \"name\": continent\n",
    "        }\n",
    "        frame[\"data\"].append(data_dict)\n",
    "\n",
    "    fig_dict[\"frames\"].append(frame)\n",
    "    slider_step = {\"args\": [\n",
    "        [year],\n",
    "        {\"frame\": {\"duration\": 300, \"redraw\": False},\n",
    "         \"mode\": \"immediate\",\n",
    "         \"transition\": {\"duration\": 300}}\n",
    "    ],\n",
    "        \"label\": year,\n",
    "        \"method\": \"animate\"}\n",
    "    sliders_dict[\"steps\"].append(slider_step)\n",
    "\n",
    "\n",
    "fig_dict[\"layout\"][\"sliders\"] = [sliders_dict]\n",
    "\n",
    "fig = go.Figure(fig_dict)\n",
    "\n",
    "fig.show()"
   ]
  }
 ],
 "metadata": {
  "language_info": {
   "codemirror_mode": {
    "name": "ipython",
    "version": 3
   },
   "file_extension": ".py",
   "mimetype": "text/x-python",
   "name": "python",
   "nbconvert_exporter": "python",
   "pygments_lexer": "ipython3",
   "version": "3.7.4-final"
  },
  "orig_nbformat": 2,
  "kernelspec": {
   "name": "python37464bitbaseconda9de9e92c0c934fa599d99a4bd097821d",
   "display_name": "Python 3.7.4 64-bit ('base': conda)"
  }
 },
 "nbformat": 4,
 "nbformat_minor": 2
}