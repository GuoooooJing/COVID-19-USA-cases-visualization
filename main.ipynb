{
 "cells": [
  {
   "cell_type": "code",
   "execution_count": 48,
   "metadata": {},
   "outputs": [],
   "source": [
    "from bs4 import BeautifulSoup as bs\n",
    "import requests\n",
    "import pandas as pd\n",
    "import os"
   ]
  },
  {
   "cell_type": "code",
   "execution_count": 42,
   "metadata": {},
   "outputs": [],
   "source": [
    "source = requests.get('https://github.com/CSSEGISandData/COVID-19/tree/master/csse_covid_19_data/csse_covid_19_daily_reports/')\n",
    "\n",
    "soup = bs(source.text,'html.parser')\n",
    "page = soup.prettify()"
   ]
  },
  {
   "cell_type": "code",
   "execution_count": 69,
   "metadata": {},
   "outputs": [],
   "source": [
    "web_fileset = set()\n",
    "web_set = set()\n",
    "for i in soup.find_all('a', class_='js-navigation-open'):\n",
    "    if 'csv' in i['href']:\n",
    "        web_set.add(i['href'])\n",
    "        web_fileset.add(i['href'].split('/')[-1])\n",
    "\n",
    "dir_set = set(os.listdir('./dataset'))\n",
    "new_data = web_fileset.difference(dir_set)\n",
    "for i in new_data:\n",
    "    path = 'https://raw.githubusercontent.com'+''.join(i.split('/blob'))\n",
    "    # raw_source = requests.get(path)\n",
    "    # raw_soup = bs(raw_source.text, 'html.parser')\n",
    "    # csv_path = 'https://raw.githubusercontent.com'+raw_soup.find(id='raw-url')['href']\n",
    "    print(path)\n",
    "    df = pd.read_csv(path)\n",
    "    filename = i.split('/')[-1]\n",
    "    #print(filename)\n",
    "    df.to_csv('./dataset/'+filename)\n"
   ]
  },
  {
   "cell_type": "code",
   "execution_count": 66,
   "metadata": {},
   "outputs": [
    {
     "output_type": "execute_result",
     "data": {
      "text/plain": "92"
     },
     "metadata": {},
     "execution_count": 66
    }
   ],
   "source": [
    "len(os.listdir('./dataset/'))"
   ]
  },
  {
   "cell_type": "code",
   "execution_count": null,
   "metadata": {},
   "outputs": [],
   "source": []
  },
  {
   "cell_type": "code",
   "execution_count": null,
   "metadata": {},
   "outputs": [],
   "source": []
  }
 ],
 "metadata": {
  "language_info": {
   "codemirror_mode": {
    "name": "ipython",
    "version": 3
   },
   "file_extension": ".py",
   "mimetype": "text/x-python",
   "name": "python",
   "nbconvert_exporter": "python",
   "pygments_lexer": "ipython3",
   "version": "3.7.4-final"
  },
  "orig_nbformat": 2,
  "kernelspec": {
   "name": "python37464bitbaseconda9de9e92c0c934fa599d99a4bd097821d",
   "display_name": "Python 3.7.4 64-bit ('base': conda)"
  }
 },
 "nbformat": 4,
 "nbformat_minor": 2
}